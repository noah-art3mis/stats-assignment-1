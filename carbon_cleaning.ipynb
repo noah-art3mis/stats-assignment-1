{
 "cells": [
  {
   "cell_type": "markdown",
   "metadata": {},
   "source": [
    "# data assignment research question\n",
    "\n",
    "TODO:\n",
    "\n",
    "-   combine 2 categories\n",
    "-   pivot using country categories\n",
    "-   fix hist to make them more meaningful\n",
    "-   make viz beautiful\n"
   ]
  },
  {
   "cell_type": "markdown",
   "metadata": {},
   "source": [
    "## CCUS: Carbon capture, utilization and storage\n",
    "\n",
    "Source: IEA (2024), [CCUS Projects Database](https://www.iea.org/data-and-statistics/data-product/ccus-projects-database)\n"
   ]
  },
  {
   "cell_type": "markdown",
   "metadata": {},
   "source": [
    "The data we are concerned with is a list of around 900 CCUS projects around the world.\n"
   ]
  },
  {
   "cell_type": "markdown",
   "metadata": {},
   "source": [
    "## Data cleaning\n"
   ]
  },
  {
   "cell_type": "code",
   "execution_count": 572,
   "metadata": {},
   "outputs": [
    {
     "data": {
      "text/html": [
       "<div>\n",
       "<style scoped>\n",
       "    .dataframe tbody tr th:only-of-type {\n",
       "        vertical-align: middle;\n",
       "    }\n",
       "\n",
       "    .dataframe tbody tr th {\n",
       "        vertical-align: top;\n",
       "    }\n",
       "\n",
       "    .dataframe thead th {\n",
       "        text-align: right;\n",
       "    }\n",
       "</style>\n",
       "<table border=\"1\" class=\"dataframe\">\n",
       "  <thead>\n",
       "    <tr style=\"text-align: right;\">\n",
       "      <th></th>\n",
       "      <th>Project name</th>\n",
       "      <th>ID</th>\n",
       "      <th>Country</th>\n",
       "      <th>Partners</th>\n",
       "      <th>Project type</th>\n",
       "      <th>Announcement</th>\n",
       "      <th>FID</th>\n",
       "      <th>Operation</th>\n",
       "      <th>Suspension/decommissioning</th>\n",
       "      <th>Project Status</th>\n",
       "      <th>...</th>\n",
       "      <th>Ref 5</th>\n",
       "      <th>Ref 6</th>\n",
       "      <th>Ref 7</th>\n",
       "      <th>Link 1</th>\n",
       "      <th>Link 2</th>\n",
       "      <th>Link 3</th>\n",
       "      <th>Link 4</th>\n",
       "      <th>Link 5</th>\n",
       "      <th>Link 6</th>\n",
       "      <th>Link 7</th>\n",
       "    </tr>\n",
       "  </thead>\n",
       "  <tbody>\n",
       "    <tr>\n",
       "      <th>0</th>\n",
       "      <td>3D DMX ArcelorMittal and IFPEN Dunkirk (full-s...</td>\n",
       "      <td>1</td>\n",
       "      <td>France</td>\n",
       "      <td>ArcelorMittal, ifp, Axens, Uetikon, Grassco, b...</td>\n",
       "      <td>Capture</td>\n",
       "      <td>2019.0</td>\n",
       "      <td>NaN</td>\n",
       "      <td>2025.0</td>\n",
       "      <td>NaN</td>\n",
       "      <td>Planned</td>\n",
       "      <td>...</td>\n",
       "      <td>NaN</td>\n",
       "      <td>NaN</td>\n",
       "      <td>NaN</td>\n",
       "      <td>Link 1</td>\n",
       "      <td>Link 2</td>\n",
       "      <td>NaN</td>\n",
       "      <td>NaN</td>\n",
       "      <td>NaN</td>\n",
       "      <td>NaN</td>\n",
       "      <td>NaN</td>\n",
       "    </tr>\n",
       "    <tr>\n",
       "      <th>1</th>\n",
       "      <td>3D DMX ArcelorMittal and IFPEN Dunkirk 'REUZE'</td>\n",
       "      <td>751</td>\n",
       "      <td>France</td>\n",
       "      <td>ArcelorMittal, Engie, Infinium</td>\n",
       "      <td>CCU</td>\n",
       "      <td>2022.0</td>\n",
       "      <td>2024.0</td>\n",
       "      <td>2025.0</td>\n",
       "      <td>NaN</td>\n",
       "      <td>Planned</td>\n",
       "      <td>...</td>\n",
       "      <td>NaN</td>\n",
       "      <td>NaN</td>\n",
       "      <td>NaN</td>\n",
       "      <td>Link 1</td>\n",
       "      <td>Link 2</td>\n",
       "      <td>NaN</td>\n",
       "      <td>NaN</td>\n",
       "      <td>NaN</td>\n",
       "      <td>NaN</td>\n",
       "      <td>NaN</td>\n",
       "    </tr>\n",
       "    <tr>\n",
       "      <th>2</th>\n",
       "      <td>7 Blue Ammonia Facility</td>\n",
       "      <td>1055</td>\n",
       "      <td>Qatar</td>\n",
       "      <td>QAFCO, thyssenkrupp Uhde/Consolidated Contract...</td>\n",
       "      <td>Full Chain</td>\n",
       "      <td>2022.0</td>\n",
       "      <td>2022.0</td>\n",
       "      <td>2026.0</td>\n",
       "      <td>NaN</td>\n",
       "      <td>Under construction</td>\n",
       "      <td>...</td>\n",
       "      <td>NaN</td>\n",
       "      <td>NaN</td>\n",
       "      <td>NaN</td>\n",
       "      <td>Link 1</td>\n",
       "      <td>Link 2</td>\n",
       "      <td>NaN</td>\n",
       "      <td>NaN</td>\n",
       "      <td>NaN</td>\n",
       "      <td>NaN</td>\n",
       "      <td>NaN</td>\n",
       "    </tr>\n",
       "    <tr>\n",
       "      <th>3</th>\n",
       "      <td>8Rivers H2 (8RH2) (WY)</td>\n",
       "      <td>3</td>\n",
       "      <td>United States</td>\n",
       "      <td>8Rivers, Wyoming Energy Authority</td>\n",
       "      <td>Capture</td>\n",
       "      <td>2022.0</td>\n",
       "      <td>NaN</td>\n",
       "      <td>NaN</td>\n",
       "      <td>NaN</td>\n",
       "      <td>Planned</td>\n",
       "      <td>...</td>\n",
       "      <td>NaN</td>\n",
       "      <td>NaN</td>\n",
       "      <td>NaN</td>\n",
       "      <td>Link 1</td>\n",
       "      <td>NaN</td>\n",
       "      <td>NaN</td>\n",
       "      <td>NaN</td>\n",
       "      <td>NaN</td>\n",
       "      <td>NaN</td>\n",
       "      <td>NaN</td>\n",
       "    </tr>\n",
       "    <tr>\n",
       "      <th>4</th>\n",
       "      <td>Abadi CCS/CCUS</td>\n",
       "      <td>227</td>\n",
       "      <td>Indonesia</td>\n",
       "      <td>Inpex Masela 65%, Shell (trying to find a buye...</td>\n",
       "      <td>Full chain</td>\n",
       "      <td>2018.0</td>\n",
       "      <td>NaN</td>\n",
       "      <td>2027.0</td>\n",
       "      <td>NaN</td>\n",
       "      <td>Planned</td>\n",
       "      <td>...</td>\n",
       "      <td>NaN</td>\n",
       "      <td>NaN</td>\n",
       "      <td>NaN</td>\n",
       "      <td>Link 1</td>\n",
       "      <td>Link 2</td>\n",
       "      <td>Link 3</td>\n",
       "      <td>NaN</td>\n",
       "      <td>NaN</td>\n",
       "      <td>NaN</td>\n",
       "      <td>NaN</td>\n",
       "    </tr>\n",
       "    <tr>\n",
       "      <th>...</th>\n",
       "      <td>...</td>\n",
       "      <td>...</td>\n",
       "      <td>...</td>\n",
       "      <td>...</td>\n",
       "      <td>...</td>\n",
       "      <td>...</td>\n",
       "      <td>...</td>\n",
       "      <td>...</td>\n",
       "      <td>...</td>\n",
       "      <td>...</td>\n",
       "      <td>...</td>\n",
       "      <td>...</td>\n",
       "      <td>...</td>\n",
       "      <td>...</td>\n",
       "      <td>...</td>\n",
       "      <td>...</td>\n",
       "      <td>...</td>\n",
       "      <td>...</td>\n",
       "      <td>...</td>\n",
       "      <td>...</td>\n",
       "      <td>...</td>\n",
       "    </tr>\n",
       "    <tr>\n",
       "      <th>839</th>\n",
       "      <td>Yara Pilbara ammonia</td>\n",
       "      <td>788</td>\n",
       "      <td>Australia</td>\n",
       "      <td>Yara, JERA</td>\n",
       "      <td>Capture</td>\n",
       "      <td>2021.0</td>\n",
       "      <td>NaN</td>\n",
       "      <td>NaN</td>\n",
       "      <td>NaN</td>\n",
       "      <td>Planned</td>\n",
       "      <td>...</td>\n",
       "      <td>NaN</td>\n",
       "      <td>NaN</td>\n",
       "      <td>NaN</td>\n",
       "      <td>Link 1</td>\n",
       "      <td>NaN</td>\n",
       "      <td>NaN</td>\n",
       "      <td>NaN</td>\n",
       "      <td>NaN</td>\n",
       "      <td>NaN</td>\n",
       "      <td>NaN</td>\n",
       "    </tr>\n",
       "    <tr>\n",
       "      <th>840</th>\n",
       "      <td>Yara Sluiskil fertiliser</td>\n",
       "      <td>465</td>\n",
       "      <td>Netherlands</td>\n",
       "      <td>Yara</td>\n",
       "      <td>Capture</td>\n",
       "      <td>2022.0</td>\n",
       "      <td>2023.0</td>\n",
       "      <td>2026.0</td>\n",
       "      <td>NaN</td>\n",
       "      <td>Under construction</td>\n",
       "      <td>...</td>\n",
       "      <td>NaN</td>\n",
       "      <td>NaN</td>\n",
       "      <td>NaN</td>\n",
       "      <td>Link 1</td>\n",
       "      <td>Link 2</td>\n",
       "      <td>Link 3</td>\n",
       "      <td>NaN</td>\n",
       "      <td>NaN</td>\n",
       "      <td>NaN</td>\n",
       "      <td>NaN</td>\n",
       "    </tr>\n",
       "    <tr>\n",
       "      <th>841</th>\n",
       "      <td>Yara-BASF Gulf Coast</td>\n",
       "      <td>826</td>\n",
       "      <td>United States</td>\n",
       "      <td>Yara, BASF</td>\n",
       "      <td>Capture</td>\n",
       "      <td>2023.0</td>\n",
       "      <td>NaN</td>\n",
       "      <td>2028.0</td>\n",
       "      <td>NaN</td>\n",
       "      <td>Planned</td>\n",
       "      <td>...</td>\n",
       "      <td>NaN</td>\n",
       "      <td>NaN</td>\n",
       "      <td>NaN</td>\n",
       "      <td>Link 1</td>\n",
       "      <td>NaN</td>\n",
       "      <td>NaN</td>\n",
       "      <td>NaN</td>\n",
       "      <td>NaN</td>\n",
       "      <td>NaN</td>\n",
       "      <td>NaN</td>\n",
       "    </tr>\n",
       "    <tr>\n",
       "      <th>842</th>\n",
       "      <td>ZerCal250</td>\n",
       "      <td>640</td>\n",
       "      <td>United Kingdom</td>\n",
       "      <td>Origin, Singleton Birch</td>\n",
       "      <td>Capture</td>\n",
       "      <td>2021.0</td>\n",
       "      <td>NaN</td>\n",
       "      <td>NaN</td>\n",
       "      <td>NaN</td>\n",
       "      <td>Planned</td>\n",
       "      <td>...</td>\n",
       "      <td>NaN</td>\n",
       "      <td>NaN</td>\n",
       "      <td>NaN</td>\n",
       "      <td>Link 1</td>\n",
       "      <td>Link 2</td>\n",
       "      <td>NaN</td>\n",
       "      <td>NaN</td>\n",
       "      <td>NaN</td>\n",
       "      <td>NaN</td>\n",
       "      <td>NaN</td>\n",
       "    </tr>\n",
       "    <tr>\n",
       "      <th>843</th>\n",
       "      <td>Zutica and Ivanic grad EOR extension</td>\n",
       "      <td>725</td>\n",
       "      <td>Croatia</td>\n",
       "      <td>INA/MOL</td>\n",
       "      <td>Storage</td>\n",
       "      <td>NaN</td>\n",
       "      <td>NaN</td>\n",
       "      <td>NaN</td>\n",
       "      <td>NaN</td>\n",
       "      <td>Planned</td>\n",
       "      <td>...</td>\n",
       "      <td>NaN</td>\n",
       "      <td>NaN</td>\n",
       "      <td>NaN</td>\n",
       "      <td>Link 1</td>\n",
       "      <td>NaN</td>\n",
       "      <td>NaN</td>\n",
       "      <td>NaN</td>\n",
       "      <td>NaN</td>\n",
       "      <td>NaN</td>\n",
       "      <td>NaN</td>\n",
       "    </tr>\n",
       "  </tbody>\n",
       "</table>\n",
       "<p>844 rows × 31 columns</p>\n",
       "</div>"
      ],
      "text/plain": [
       "                                          Project name    ID         Country  \\\n",
       "0    3D DMX ArcelorMittal and IFPEN Dunkirk (full-s...     1          France   \n",
       "1       3D DMX ArcelorMittal and IFPEN Dunkirk 'REUZE'   751          France   \n",
       "2                              7 Blue Ammonia Facility  1055           Qatar   \n",
       "3                               8Rivers H2 (8RH2) (WY)     3   United States   \n",
       "4                                       Abadi CCS/CCUS   227       Indonesia   \n",
       "..                                                 ...   ...             ...   \n",
       "839                               Yara Pilbara ammonia   788       Australia   \n",
       "840                           Yara Sluiskil fertiliser   465     Netherlands   \n",
       "841                               Yara-BASF Gulf Coast   826   United States   \n",
       "842                                          ZerCal250   640  United Kingdom   \n",
       "843               Zutica and Ivanic grad EOR extension   725         Croatia   \n",
       "\n",
       "                                              Partners Project type  \\\n",
       "0    ArcelorMittal, ifp, Axens, Uetikon, Grassco, b...      Capture   \n",
       "1                       ArcelorMittal, Engie, Infinium          CCU   \n",
       "2    QAFCO, thyssenkrupp Uhde/Consolidated Contract...   Full Chain   \n",
       "3                    8Rivers, Wyoming Energy Authority      Capture   \n",
       "4    Inpex Masela 65%, Shell (trying to find a buye...   Full chain   \n",
       "..                                                 ...          ...   \n",
       "839                                         Yara, JERA      Capture   \n",
       "840                                               Yara      Capture   \n",
       "841                                         Yara, BASF      Capture   \n",
       "842                            Origin, Singleton Birch      Capture   \n",
       "843                                            INA/MOL      Storage   \n",
       "\n",
       "     Announcement     FID  Operation  Suspension/decommissioning  \\\n",
       "0          2019.0     NaN     2025.0                         NaN   \n",
       "1          2022.0  2024.0     2025.0                         NaN   \n",
       "2          2022.0  2022.0     2026.0                         NaN   \n",
       "3          2022.0     NaN        NaN                         NaN   \n",
       "4          2018.0     NaN     2027.0                         NaN   \n",
       "..            ...     ...        ...                         ...   \n",
       "839        2021.0     NaN        NaN                         NaN   \n",
       "840        2022.0  2023.0     2026.0                         NaN   \n",
       "841        2023.0     NaN     2028.0                         NaN   \n",
       "842        2021.0     NaN        NaN                         NaN   \n",
       "843           NaN     NaN        NaN                         NaN   \n",
       "\n",
       "         Project Status  ...  Ref 5 Ref 6  Ref 7  Link 1  Link 2  Link 3  \\\n",
       "0               Planned  ...    NaN   NaN    NaN  Link 1  Link 2     NaN   \n",
       "1               Planned  ...    NaN   NaN    NaN  Link 1  Link 2     NaN   \n",
       "2    Under construction  ...    NaN   NaN    NaN  Link 1  Link 2     NaN   \n",
       "3               Planned  ...    NaN   NaN    NaN  Link 1     NaN     NaN   \n",
       "4               Planned  ...    NaN   NaN    NaN  Link 1  Link 2  Link 3   \n",
       "..                  ...  ...    ...   ...    ...     ...     ...     ...   \n",
       "839             Planned  ...    NaN   NaN    NaN  Link 1     NaN     NaN   \n",
       "840  Under construction  ...    NaN   NaN    NaN  Link 1  Link 2  Link 3   \n",
       "841             Planned  ...    NaN   NaN    NaN  Link 1     NaN     NaN   \n",
       "842             Planned  ...    NaN   NaN    NaN  Link 1  Link 2     NaN   \n",
       "843             Planned  ...    NaN   NaN    NaN  Link 1     NaN     NaN   \n",
       "\n",
       "    Link 4 Link 5 Link 6 Link 7  \n",
       "0      NaN    NaN    NaN    NaN  \n",
       "1      NaN    NaN    NaN    NaN  \n",
       "2      NaN    NaN    NaN    NaN  \n",
       "3      NaN    NaN    NaN    NaN  \n",
       "4      NaN    NaN    NaN    NaN  \n",
       "..     ...    ...    ...    ...  \n",
       "839    NaN    NaN    NaN    NaN  \n",
       "840    NaN    NaN    NaN    NaN  \n",
       "841    NaN    NaN    NaN    NaN  \n",
       "842    NaN    NaN    NaN    NaN  \n",
       "843    NaN    NaN    NaN    NaN  \n",
       "\n",
       "[844 rows x 31 columns]"
      ]
     },
     "execution_count": 572,
     "metadata": {},
     "output_type": "execute_result"
    }
   ],
   "source": [
    "import numpy as np\n",
    "import pandas as pd\n",
    "\n",
    "\n",
    "df = pd.read_csv(\"data/ccus.csv\")\n",
    "df"
   ]
  },
  {
   "cell_type": "code",
   "execution_count": 573,
   "metadata": {},
   "outputs": [
    {
     "data": {
      "text/plain": [
       "Index(['Project name', 'ID', 'Country', 'Partners', 'Project type',\n",
       "       'Announcement', 'FID', 'Operation', 'Suspension/decommissioning',\n",
       "       'Project Status', 'Project phase', 'Announced capacity (Mt CO2/yr)',\n",
       "       'Estimated capacity by IEA (Mt CO2/yr)', 'Sector', 'Fate of carbon',\n",
       "       'Part of CCUS hub', 'Region', 'Ref 1', 'Ref 2', 'Ref 3', 'Ref 4',\n",
       "       'Ref 5', 'Ref 6', 'Ref 7', 'Link 1', 'Link 2', 'Link 3', 'Link 4',\n",
       "       'Link 5', 'Link 6', 'Link 7'],\n",
       "      dtype='object')"
      ]
     },
     "execution_count": 573,
     "metadata": {},
     "output_type": "execute_result"
    }
   ],
   "source": [
    "df.columns"
   ]
  },
  {
   "cell_type": "markdown",
   "metadata": {},
   "source": [
    "Drop columns which are not relevant for the analysis, such as the names of the companies.\n"
   ]
  },
  {
   "cell_type": "code",
   "execution_count": 574,
   "metadata": {},
   "outputs": [
    {
     "data": {
      "text/html": [
       "<div>\n",
       "<style scoped>\n",
       "    .dataframe tbody tr th:only-of-type {\n",
       "        vertical-align: middle;\n",
       "    }\n",
       "\n",
       "    .dataframe tbody tr th {\n",
       "        vertical-align: top;\n",
       "    }\n",
       "\n",
       "    .dataframe thead th {\n",
       "        text-align: right;\n",
       "    }\n",
       "</style>\n",
       "<table border=\"1\" class=\"dataframe\">\n",
       "  <thead>\n",
       "    <tr style=\"text-align: right;\">\n",
       "      <th></th>\n",
       "      <th>ID</th>\n",
       "      <th>Country</th>\n",
       "      <th>Project type</th>\n",
       "      <th>Announcement</th>\n",
       "      <th>FID</th>\n",
       "      <th>Operation</th>\n",
       "      <th>Suspension/decommissioning</th>\n",
       "      <th>Project Status</th>\n",
       "      <th>Project phase</th>\n",
       "      <th>Announced capacity (Mt CO2/yr)</th>\n",
       "      <th>Estimated capacity by IEA (Mt CO2/yr)</th>\n",
       "      <th>Sector</th>\n",
       "      <th>Fate of carbon</th>\n",
       "      <th>Region</th>\n",
       "    </tr>\n",
       "  </thead>\n",
       "  <tbody>\n",
       "    <tr>\n",
       "      <th>0</th>\n",
       "      <td>1</td>\n",
       "      <td>France</td>\n",
       "      <td>Capture</td>\n",
       "      <td>2019.0</td>\n",
       "      <td>NaN</td>\n",
       "      <td>2025.0</td>\n",
       "      <td>NaN</td>\n",
       "      <td>Planned</td>\n",
       "      <td>2.0</td>\n",
       "      <td>0.7</td>\n",
       "      <td>0.7</td>\n",
       "      <td>Iron and steel</td>\n",
       "      <td>Unknown/unspecified</td>\n",
       "      <td>Europe</td>\n",
       "    </tr>\n",
       "  </tbody>\n",
       "</table>\n",
       "</div>"
      ],
      "text/plain": [
       "   ID Country Project type  Announcement  FID  Operation  \\\n",
       "0   1  France      Capture        2019.0  NaN     2025.0   \n",
       "\n",
       "   Suspension/decommissioning Project Status  Project phase  \\\n",
       "0                         NaN        Planned            2.0   \n",
       "\n",
       "  Announced capacity (Mt CO2/yr)  Estimated capacity by IEA (Mt CO2/yr)  \\\n",
       "0                            0.7                                    0.7   \n",
       "\n",
       "           Sector       Fate of carbon  Region  \n",
       "0  Iron and steel  Unknown/unspecified  Europe  "
      ]
     },
     "execution_count": 574,
     "metadata": {},
     "output_type": "execute_result"
    }
   ],
   "source": [
    "df = df.drop(\n",
    "    columns=[\n",
    "        \"Project name\",\n",
    "        \"Partners\",\n",
    "        \"Part of CCUS hub\",\n",
    "        \"Ref 1\",\n",
    "        \"Ref 2\",\n",
    "        \"Ref 3\",\n",
    "        \"Ref 4\",\n",
    "        \"Ref 5\",\n",
    "        \"Ref 6\",\n",
    "        \"Ref 7\",\n",
    "        \"Link 1\",\n",
    "        \"Link 2\",\n",
    "        \"Link 3\",\n",
    "        \"Link 4\",\n",
    "        \"Link 5\",\n",
    "        \"Link 6\",\n",
    "        \"Link 7\",\n",
    "    ]\n",
    ")\n",
    "\n",
    "df.head(1)"
   ]
  },
  {
   "cell_type": "markdown",
   "metadata": {},
   "source": [
    "Altering columns: Announced capacity (Mt CO2/yr)\n"
   ]
  },
  {
   "cell_type": "markdown",
   "metadata": {},
   "source": [
    "`Announced capacity (Mt CO2/yr)` it the only column which is modified. This is necessary because there are 106 entries which have ranges instead of numbers. This makes it so the dtype of the column is wrong, which interrupts further analysis.\n"
   ]
  },
  {
   "cell_type": "code",
   "execution_count": 575,
   "metadata": {},
   "outputs": [],
   "source": [
    "df = df.dropna(subset=[\"Announced capacity (Mt CO2/yr)\"])"
   ]
  },
  {
   "cell_type": "markdown",
   "metadata": {},
   "source": [
    "First, we drop the NaNs so that we can continue with the analysis. This might introduce some bias.\n"
   ]
  },
  {
   "cell_type": "code",
   "execution_count": 576,
   "metadata": {},
   "outputs": [],
   "source": [
    "def range_size(value: str) -> float:\n",
    "    if \"-\" not in value:\n",
    "        return float(value)\n",
    "\n",
    "    arr = value.split(\"-\")\n",
    "    a = float(arr[0].strip())\n",
    "    b = float(arr[1].strip())\n",
    "    return b - a\n",
    "\n",
    "\n",
    "ranges = df[\"Announced capacity (Mt CO2/yr)\"].apply(\n",
    "    range_size\n",
    ")"
   ]
  },
  {
   "cell_type": "code",
   "execution_count": 577,
   "metadata": {},
   "outputs": [
    {
     "data": {
      "text/plain": [
       "635    250.000\n",
       "676    120.000\n",
       "794     30.000\n",
       "563     30.000\n",
       "773     30.000\n",
       "        ...   \n",
       "662      0.001\n",
       "784      0.001\n",
       "522      0.000\n",
       "414     -0.010\n",
       "170     -5.000\n",
       "Name: Announced capacity (Mt CO2/yr), Length: 614, dtype: float64"
      ]
     },
     "execution_count": 577,
     "metadata": {},
     "output_type": "execute_result"
    }
   ],
   "source": [
    "ranges.sort_values(ascending=False)"
   ]
  },
  {
   "cell_type": "code",
   "execution_count": 578,
   "metadata": {},
   "outputs": [
    {
     "data": {
      "text/plain": [
       "count    612.000000\n",
       "mean       2.479724\n",
       "std        4.076815\n",
       "min       -5.000000\n",
       "25%        0.300000\n",
       "50%        1.000000\n",
       "75%        2.962500\n",
       "max       30.000000\n",
       "Name: Announced capacity (Mt CO2/yr), dtype: float64"
      ]
     },
     "execution_count": 578,
     "metadata": {},
     "output_type": "execute_result"
    }
   ],
   "source": [
    "ranges.drop([635, 676]).describe()"
   ]
  },
  {
   "cell_type": "markdown",
   "metadata": {},
   "source": [
    "First, we check the distribution of the ranges to see if taking their mean is representative. After removing the two outliers (`250` and `120`), the ranges have mean `3` with std `4`, with two outliers (`250` and `120`), we assume the substituting the range for the mean does not distort the data too much. This makes it much easier to do the analysis. This also sets indices 635 and 676 as outliers, which will be important later.\n"
   ]
  },
  {
   "cell_type": "markdown",
   "metadata": {},
   "source": [
    "This code detects if the entry is a range, splits it, converts it into a number, gets the mean between the two extremes of the range, and returns it.\n"
   ]
  },
  {
   "cell_type": "code",
   "execution_count": 579,
   "metadata": {},
   "outputs": [
    {
     "data": {
      "text/plain": [
       "45     0.240\n",
       "483    1.700\n",
       "136    0.584\n",
       "678    0.400\n",
       "821    0.400\n",
       "Name: Announced capacity (Mt CO2/yr), dtype: float64"
      ]
     },
     "execution_count": 579,
     "metadata": {},
     "output_type": "execute_result"
    }
   ],
   "source": [
    "def range_cleanup(value: str) -> float:\n",
    "    if \"-\" not in value:\n",
    "        return float(value)\n",
    "\n",
    "    arr = value.split(\"-\")\n",
    "    a = float(arr[0].strip())\n",
    "    b = float(arr[1].strip())\n",
    "    return (a + b) / 2\n",
    "\n",
    "\n",
    "df = df.dropna(subset=[\"Announced capacity (Mt CO2/yr)\"])\n",
    "\n",
    "df[\"Announced capacity (Mt CO2/yr)\"] = df[\"Announced capacity (Mt CO2/yr)\"].apply(\n",
    "    range_cleanup\n",
    ")\n",
    "df[\"Announced capacity (Mt CO2/yr)\"].sample(5)"
   ]
  },
  {
   "cell_type": "markdown",
   "metadata": {},
   "source": [
    "This also makes it possible for us to add a new feature: the difference between the announced capacity and the estimated capacity.\n"
   ]
  },
  {
   "cell_type": "code",
   "execution_count": 580,
   "metadata": {},
   "outputs": [
    {
     "data": {
      "text/plain": [
       "count    614.000000\n",
       "mean      -0.068950\n",
       "std        0.749446\n",
       "min      -10.000000\n",
       "25%        0.000000\n",
       "50%        0.000000\n",
       "75%        0.000000\n",
       "max        5.000000\n",
       "Name: Capacity error, dtype: float64"
      ]
     },
     "execution_count": 580,
     "metadata": {},
     "output_type": "execute_result"
    }
   ],
   "source": [
    "df[\"Capacity error\"] = (\n",
    "    df[\"Announced capacity (Mt CO2/yr)\"] - df[\"Estimated capacity by IEA (Mt CO2/yr)\"]\n",
    ")\n",
    "\n",
    "df[\"Capacity error\"].describe()"
   ]
  },
  {
   "cell_type": "markdown",
   "metadata": {},
   "source": [
    "Given the mean and std, we should assume that, for the most part, the difference between estimated and announced capacity is not that relevant.\n"
   ]
  },
  {
   "cell_type": "markdown",
   "metadata": {},
   "source": [
    "### Altering columns: Project Type\n"
   ]
  },
  {
   "cell_type": "code",
   "execution_count": 581,
   "metadata": {},
   "outputs": [
    {
     "data": {
      "text/plain": [
       "Project type\n",
       "Capture       238\n",
       "Full chain    114\n",
       "T&S            82\n",
       "Storage        74\n",
       "Transport      56\n",
       "CCU            44\n",
       "Full Chain      6\n",
       "Name: count, dtype: int64"
      ]
     },
     "execution_count": 581,
     "metadata": {},
     "output_type": "execute_result"
    }
   ],
   "source": [
    "df['Project type'].value_counts()"
   ]
  },
  {
   "cell_type": "code",
   "execution_count": 582,
   "metadata": {},
   "outputs": [
    {
     "data": {
      "text/plain": [
       "Project type\n",
       "Capture       238\n",
       "Full Chain    120\n",
       "T&S            82\n",
       "Storage        74\n",
       "Transport      56\n",
       "CCU            44\n",
       "Name: count, dtype: int64"
      ]
     },
     "execution_count": 582,
     "metadata": {},
     "output_type": "execute_result"
    }
   ],
   "source": [
    "def fix_full_chain(value: str) -> str:\n",
    "    if 'Full chain' in value:\n",
    "        return 'Full Chain'\n",
    "    else:\n",
    "        return value\n",
    "    \n",
    "df['Project type'] = df['Project type'].apply(fix_full_chain)\n",
    "df['Project type'].value_counts()"
   ]
  },
  {
   "cell_type": "markdown",
   "metadata": {},
   "source": [
    "In this part, we fix the 'Full Chain'/'Full chain' capitalization issue.\n"
   ]
  },
  {
   "cell_type": "markdown",
   "metadata": {},
   "source": [
    "### Altering columns: Region\n"
   ]
  },
  {
   "cell_type": "code",
   "execution_count": 583,
   "metadata": {},
   "outputs": [
    {
     "data": {
      "text/plain": [
       "Region\n",
       "Europe                                            259\n",
       "North America                                     254\n",
       "Other Asia Pacific                                 52\n",
       "Australia and New Zealand                          23\n",
       "Middle East                                        14\n",
       "Africa                                              4\n",
       "Central and South America                           4\n",
       "Unknown                                             3\n",
       "Other Asia Pacific - Australia and New Zealand      1\n",
       "Name: count, dtype: int64"
      ]
     },
     "execution_count": 583,
     "metadata": {},
     "output_type": "execute_result"
    }
   ],
   "source": [
    "df['Region'].value_counts()"
   ]
  },
  {
   "cell_type": "markdown",
   "metadata": {},
   "source": [
    "We leave the one `Other Asia Pacific - Australia and New Zealand`\n"
   ]
  },
  {
   "cell_type": "markdown",
   "metadata": {},
   "source": [
    "### Altering columns: Country\n"
   ]
  },
  {
   "cell_type": "code",
   "execution_count": 584,
   "metadata": {},
   "outputs": [
    {
     "data": {
      "text/plain": [
       "Country\n",
       "United States                                      211\n",
       "United Kingdom                                      70\n",
       "Canada                                              43\n",
       "Norway                                              32\n",
       "People's Republic of China                          28\n",
       "France                                              22\n",
       "Netherlands                                         20\n",
       "Germany                                             20\n",
       "Denmark                                             19\n",
       "Australia                                           19\n",
       "Sweden                                              13\n",
       "Belgium                                              8\n",
       "Iceland                                              8\n",
       "Greece                                               8\n",
       "United Arab Emirates                                 7\n",
       "Indonesia                                            7\n",
       "Japan                                                6\n",
       "Finland                                              5\n",
       "Italy                                                4\n",
       "Croatia                                              4\n",
       "Poland, Latvia, Lithuania                            3\n",
       "Qatar                                                3\n",
       "Japan-Malaysia                                       3\n",
       "Australia-Japan                                      3\n",
       "Hungary                                              3\n",
       "South Korea                                          2\n",
       "France-Italy                                         2\n",
       "Unknown                                              2\n",
       "Saudi Arabia                                         2\n",
       "Oman                                                 2\n",
       "Germany-Norway                                       2\n",
       "Taiwan                                               2\n",
       "Brazil                                               2\n",
       "Kenya                                                2\n",
       "Poland                                               2\n",
       "Italy-Greece                                         1\n",
       "Singapore                                            1\n",
       "Latvia-Lithuania                                     1\n",
       "Austria                                              1\n",
       "Latvia                                               1\n",
       "Bulgaria                                             1\n",
       "Ireland                                              1\n",
       "Belgium-Norway                                       1\n",
       "Netherlands-Germany                                  1\n",
       "India                                                1\n",
       "Algeria                                              1\n",
       "Uruguay                                              1\n",
       "Chile                                                1\n",
       "Romania                                              1\n",
       "Spain                                                1\n",
       "Portugal                                             1\n",
       "Swizterland                                          1\n",
       "Japan-unknown                                        1\n",
       "Belgium-Germany                                      1\n",
       "Lithuania                                            1\n",
       "Papua New Guinea                                     1\n",
       "New Zealand                                          1\n",
       "Malaysia                                             1\n",
       "Lybia                                                1\n",
       "Belgium, Germany, Netherlands, Switzerland, USA      1\n",
       "Name: count, dtype: int64"
      ]
     },
     "execution_count": 584,
     "metadata": {},
     "output_type": "execute_result"
    }
   ],
   "source": [
    "df['Country'].value_counts()"
   ]
  },
  {
   "cell_type": "markdown",
   "metadata": {},
   "source": [
    "While there are some mixed country projects (`Australia-Japan`), they are not that many as to affect the analysis\n"
   ]
  },
  {
   "cell_type": "markdown",
   "metadata": {},
   "source": [
    "### Convert appropriate columns to category dtype\n"
   ]
  },
  {
   "cell_type": "markdown",
   "metadata": {},
   "source": [
    "These columns were selected by going through each of the columns with the `value_counts()` method to see if they had categorical data. This correct labelling makes some analyses possible. Although not particularly relevant in this case, we also see a ~4x reduction in memory usage.\n"
   ]
  },
  {
   "cell_type": "code",
   "execution_count": 585,
   "metadata": {},
   "outputs": [
    {
     "name": "stdout",
     "output_type": "stream",
     "text": [
      "<class 'pandas.core.frame.DataFrame'>\n",
      "Index: 614 entries, 0 to 840\n",
      "Data columns (total 15 columns):\n",
      " #   Column                                 Non-Null Count  Dtype  \n",
      "---  ------                                 --------------  -----  \n",
      " 0   ID                                     614 non-null    int64  \n",
      " 1   Country                                614 non-null    object \n",
      " 2   Project type                           614 non-null    object \n",
      " 3   Announcement                           597 non-null    float64\n",
      " 4   FID                                    224 non-null    float64\n",
      " 5   Operation                              459 non-null    float64\n",
      " 6   Suspension/decommissioning             6 non-null      float64\n",
      " 7   Project Status                         614 non-null    object \n",
      " 8   Project phase                          163 non-null    float64\n",
      " 9   Announced capacity (Mt CO2/yr)         614 non-null    float64\n",
      " 10  Estimated capacity by IEA (Mt CO2/yr)  614 non-null    float64\n",
      " 11  Sector                                 614 non-null    object \n",
      " 12  Fate of carbon                         614 non-null    object \n",
      " 13  Region                                 614 non-null    object \n",
      " 14  Capacity error                         614 non-null    float64\n",
      "dtypes: float64(8), int64(1), object(6)\n",
      "memory usage: 307.1 KB\n"
     ]
    }
   ],
   "source": [
    "df.info(memory_usage=\"deep\")"
   ]
  },
  {
   "cell_type": "code",
   "execution_count": 586,
   "metadata": {},
   "outputs": [],
   "source": [
    "category_cols = [\n",
    "    \"Country\",\n",
    "    \"Project type\",\n",
    "    \"Project Status\",\n",
    "    \"Project phase\",\n",
    "    \"Sector\",\n",
    "    \"Fate of carbon\",\n",
    "    \"Region\",\n",
    "]\n",
    "\n",
    "df[category_cols] = df[category_cols].astype(\"category\")"
   ]
  },
  {
   "cell_type": "code",
   "execution_count": 587,
   "metadata": {},
   "outputs": [
    {
     "name": "stdout",
     "output_type": "stream",
     "text": [
      "<class 'pandas.core.frame.DataFrame'>\n",
      "Index: 614 entries, 0 to 840\n",
      "Data columns (total 15 columns):\n",
      " #   Column                                 Non-Null Count  Dtype   \n",
      "---  ------                                 --------------  -----   \n",
      " 0   ID                                     614 non-null    int64   \n",
      " 1   Country                                614 non-null    category\n",
      " 2   Project type                           614 non-null    category\n",
      " 3   Announcement                           597 non-null    float64 \n",
      " 4   FID                                    224 non-null    float64 \n",
      " 5   Operation                              459 non-null    float64 \n",
      " 6   Suspension/decommissioning             6 non-null      float64 \n",
      " 7   Project Status                         614 non-null    category\n",
      " 8   Project phase                          163 non-null    category\n",
      " 9   Announced capacity (Mt CO2/yr)         614 non-null    float64 \n",
      " 10  Estimated capacity by IEA (Mt CO2/yr)  614 non-null    float64 \n",
      " 11  Sector                                 614 non-null    category\n",
      " 12  Fate of carbon                         614 non-null    category\n",
      " 13  Region                                 614 non-null    category\n",
      " 14  Capacity error                         614 non-null    float64 \n",
      "dtypes: category(7), float64(7), int64(1)\n",
      "memory usage: 73.6 KB\n"
     ]
    }
   ],
   "source": [
    "df.info(memory_usage=\"deep\")"
   ]
  },
  {
   "cell_type": "markdown",
   "metadata": {},
   "source": [
    "### Missing data\n"
   ]
  },
  {
   "cell_type": "code",
   "execution_count": 588,
   "metadata": {},
   "outputs": [
    {
     "data": {
      "text/plain": [
       "Suspension/decommissioning               608\n",
       "Project phase                            451\n",
       "FID                                      390\n",
       "Operation                                155\n",
       "Announcement                              17\n",
       "ID                                         0\n",
       "Project type                               0\n",
       "Country                                    0\n",
       "Project Status                             0\n",
       "Announced capacity (Mt CO2/yr)             0\n",
       "Estimated capacity by IEA (Mt CO2/yr)      0\n",
       "Sector                                     0\n",
       "Fate of carbon                             0\n",
       "Region                                     0\n",
       "Capacity error                             0\n",
       "dtype: int64"
      ]
     },
     "execution_count": 588,
     "metadata": {},
     "output_type": "execute_result"
    }
   ],
   "source": [
    "df.isna().sum().sort_values(ascending=False)"
   ]
  },
  {
   "cell_type": "markdown",
   "metadata": {},
   "source": [
    "Since these columns have a lot of missing values, they are dropped as well. We also drop the rows which have nans in `announcement`, which are only 20, or around 2% of the original sample.\n"
   ]
  },
  {
   "cell_type": "code",
   "execution_count": 589,
   "metadata": {},
   "outputs": [],
   "source": [
    "df = df.drop(\n",
    "    columns=[\n",
    "        \"Suspension/decommissioning\",\n",
    "        \"Project phase\",\n",
    "        \"FID\",\n",
    "        \"Operation\",\n",
    "    ]\n",
    ")"
   ]
  },
  {
   "cell_type": "code",
   "execution_count": 590,
   "metadata": {},
   "outputs": [],
   "source": [
    "df = df.dropna(subset=[\"Announcement\"])"
   ]
  },
  {
   "cell_type": "code",
   "execution_count": 591,
   "metadata": {},
   "outputs": [
    {
     "data": {
      "text/plain": [
       "ID                                       0\n",
       "Country                                  0\n",
       "Project type                             0\n",
       "Announcement                             0\n",
       "Project Status                           0\n",
       "Announced capacity (Mt CO2/yr)           0\n",
       "Estimated capacity by IEA (Mt CO2/yr)    0\n",
       "Sector                                   0\n",
       "Fate of carbon                           0\n",
       "Region                                   0\n",
       "Capacity error                           0\n",
       "dtype: int64"
      ]
     },
     "execution_count": 591,
     "metadata": {},
     "output_type": "execute_result"
    }
   ],
   "source": [
    "df.isna().sum().sort_values(ascending=False)"
   ]
  },
  {
   "cell_type": "markdown",
   "metadata": {},
   "source": [
    "## Descriptive Statistics\n"
   ]
  },
  {
   "cell_type": "code",
   "execution_count": 592,
   "metadata": {},
   "outputs": [
    {
     "name": "stdout",
     "output_type": "stream",
     "text": [
      "<class 'pandas.core.frame.DataFrame'>\n",
      "Index: 597 entries, 0 to 840\n",
      "Data columns (total 11 columns):\n",
      " #   Column                                 Non-Null Count  Dtype   \n",
      "---  ------                                 --------------  -----   \n",
      " 0   ID                                     597 non-null    int64   \n",
      " 1   Country                                597 non-null    category\n",
      " 2   Project type                           597 non-null    category\n",
      " 3   Announcement                           597 non-null    float64 \n",
      " 4   Project Status                         597 non-null    category\n",
      " 5   Announced capacity (Mt CO2/yr)         597 non-null    float64 \n",
      " 6   Estimated capacity by IEA (Mt CO2/yr)  597 non-null    float64 \n",
      " 7   Sector                                 597 non-null    category\n",
      " 8   Fate of carbon                         597 non-null    category\n",
      " 9   Region                                 597 non-null    category\n",
      " 10  Capacity error                         597 non-null    float64 \n",
      "dtypes: category(6), float64(4), int64(1)\n",
      "memory usage: 35.6 KB\n"
     ]
    }
   ],
   "source": [
    "df.info()"
   ]
  },
  {
   "cell_type": "markdown",
   "metadata": {},
   "source": [
    "### Categorical variables\n"
   ]
  },
  {
   "cell_type": "markdown",
   "metadata": {},
   "source": [
    "-   Region\n",
    "-   Country\n",
    "-   Fate of carbon\n",
    "-   Sector\n",
    "-   Project type\n",
    "-   Project status\n"
   ]
  },
  {
   "cell_type": "code",
   "execution_count": 593,
   "metadata": {},
   "outputs": [
    {
     "data": {
      "text/plain": [
       "<Axes: title={'center': '# of CCUS Projects by Region'}, ylabel='Region'>"
      ]
     },
     "execution_count": 593,
     "metadata": {},
     "output_type": "execute_result"
    },
    {
     "data": {
      "image/png": "[encoded data removed]",
      "text/plain": [
       "<Figure size 640x480 with 1 Axes>"
      ]
     },
     "metadata": {},
     "output_type": "display_data"
    }
   ],
   "source": [
    "df[\"Region\"].value_counts().sort_values(ascending=True).plot.barh(title=\"# of CCUS Projects by Region\")"
   ]
  },
  {
   "cell_type": "code",
   "execution_count": 594,
   "metadata": {},
   "outputs": [
    {
     "name": "stdout",
     "output_type": "stream",
     "text": [
      "Europe and North America account for 83.92% of total entries\n"
     ]
    }
   ],
   "source": [
    "df_rows_count = df.shape[0]\n",
    "europe_counts = (df['Region'] == 'Europe').sum()\n",
    "na_counts = (df['Region'] == 'North America').sum()\n",
    "region_percentage = (europe_counts + na_counts) / df_rows_count \n",
    "print(f\"Europe and North America account for {region_percentage * 100:.2f}% of total entries\")"
   ]
  },
  {
   "cell_type": "code",
   "execution_count": 595,
   "metadata": {},
   "outputs": [
    {
     "data": {
      "text/plain": [
       "<Axes: ylabel='Country'>"
      ]
     },
     "execution_count": 595,
     "metadata": {},
     "output_type": "execute_result"
    },
    {
     "data": {
      "image/png": "[encoded data removed]",
      "text/plain": [
       "<Figure size 640x480 with 1 Axes>"
      ]
     },
     "metadata": {},
     "output_type": "display_data"
    }
   ],
   "source": [
    "df[\"Country\"].value_counts().sort_values(ascending=True).tail(20).plot.barh()"
   ]
  },
  {
   "cell_type": "code",
   "execution_count": 596,
   "metadata": {},
   "outputs": [
    {
     "name": "stdout",
     "output_type": "stream",
     "text": [
      "US accounts for 34.51% of total entries\n"
     ]
    }
   ],
   "source": [
    "df_rows_count = df.shape[0]\n",
    "us_counts = (df['Country'] == 'United States').sum()\n",
    "country_percentage = us_counts / df_rows_count \n",
    "print(f\"US accounts for {country_percentage * 100:.2f}% of total entries\")"
   ]
  },
  {
   "cell_type": "code",
   "execution_count": 597,
   "metadata": {},
   "outputs": [
    {
     "data": {
      "text/plain": [
       "<Axes: ylabel='Project type'>"
      ]
     },
     "execution_count": 597,
     "metadata": {},
     "output_type": "execute_result"
    },
    {
     "data": {
      "image/png": "[encoded data removed]",
      "text/plain": [
       "<Figure size 640x480 with 1 Axes>"
      ]
     },
     "metadata": {},
     "output_type": "display_data"
    }
   ],
   "source": [
    "df[\"Project type\"].value_counts().sort_values().plot.barh()"
   ]
  },
  {
   "cell_type": "code",
   "execution_count": 598,
   "metadata": {},
   "outputs": [
    {
     "name": "stdout",
     "output_type": "stream",
     "text": [
      "Capture projects account for 39.53% of total entries\n"
     ]
    }
   ],
   "source": [
    "df_rows_count = df.shape[0]\n",
    "capture_counts = (df['Project type'] == 'Capture').sum()\n",
    "type_percentage = capture_counts / df_rows_count \n",
    "print(f\"Capture projects account for {type_percentage * 100:.2f}% of total entries\")"
   ]
  },
  {
   "cell_type": "code",
   "execution_count": 599,
   "metadata": {},
   "outputs": [
    {
     "data": {
      "text/plain": [
       "<Axes: ylabel='Project Status'>"
      ]
     },
     "execution_count": 599,
     "metadata": {},
     "output_type": "execute_result"
    },
    {
     "data": {
      "image/png": "[encoded data removed]",
      "text/plain": [
       "<Figure size 640x480 with 1 Axes>"
      ]
     },
     "metadata": {},
     "output_type": "display_data"
    }
   ],
   "source": [
    "df[\"Project Status\"].value_counts().sort_values().plot.barh()"
   ]
  },
  {
   "cell_type": "code",
   "execution_count": 600,
   "metadata": {},
   "outputs": [
    {
     "name": "stdout",
     "output_type": "stream",
     "text": [
      "Planned status accounts for 86.26% of total entries\n"
     ]
    }
   ],
   "source": [
    "df_rows_count = df.shape[0]\n",
    "planned_counts = (df['Project Status'] == 'Planned').sum()\n",
    "status_percentage = planned_counts / df_rows_count \n",
    "print(f\"Planned status accounts for {status_percentage * 100:.2f}% of total entries\")"
   ]
  },
  {
   "cell_type": "code",
   "execution_count": 601,
   "metadata": {},
   "outputs": [
    {
     "name": "stdout",
     "output_type": "stream",
     "text": [
      "Operational status accounts for 6.70% of total entries\n"
     ]
    }
   ],
   "source": [
    "df_rows_count = df.shape[0]\n",
    "op_counts = (df['Project Status'] == 'Operational').sum()\n",
    "status_percentage = op_counts / df_rows_count \n",
    "print(f\"Operational status accounts for {status_percentage * 100:.2f}% of total entries\")"
   ]
  },
  {
   "cell_type": "code",
   "execution_count": 602,
   "metadata": {},
   "outputs": [
    {
     "data": {
      "text/plain": [
       "<Axes: ylabel='Sector'>"
      ]
     },
     "execution_count": 602,
     "metadata": {},
     "output_type": "execute_result"
    },
    {
     "data": {
      "image/png": "[encoded data removed]",
      "text/plain": [
       "<Figure size 640x480 with 1 Axes>"
      ]
     },
     "metadata": {},
     "output_type": "display_data"
    }
   ],
   "source": [
    "df[\"Sector\"].value_counts().sort_values(ascending=True).plot.barh()"
   ]
  },
  {
   "cell_type": "code",
   "execution_count": 603,
   "metadata": {},
   "outputs": [
    {
     "data": {
      "text/plain": [
       "<Axes: xlabel='Fate of carbon'>"
      ]
     },
     "execution_count": 603,
     "metadata": {},
     "output_type": "execute_result"
    },
    {
     "data": {
      "image/png": "[encoded data removed]",
      "text/plain": [
       "<Figure size 640x480 with 1 Axes>"
      ]
     },
     "metadata": {},
     "output_type": "display_data"
    }
   ],
   "source": [
    "df[\"Fate of carbon\"].value_counts().plot.bar()"
   ]
  },
  {
   "cell_type": "code",
   "execution_count": 604,
   "metadata": {},
   "outputs": [
    {
     "name": "stdout",
     "output_type": "stream",
     "text": [
      "Storage accounts for 72.19% of total entries\n"
     ]
    }
   ],
   "source": [
    "df_rows_count = df.shape[0]\n",
    "fate_counts = (df['Fate of carbon'] == 'Dedicated storage').sum()\n",
    "status_percentage = fate_counts / df_rows_count \n",
    "print(f\"Storage accounts for {status_percentage * 100:.2f}% of total entries\")"
   ]
  },
  {
   "cell_type": "markdown",
   "metadata": {},
   "source": [
    "### Insights\n",
    "\n",
    "With these simple visualizations, we can gather a few insights from the data:\n",
    "\n",
    "-   extrene majority are just plans\n",
    "-   extrene majority are in the US, although when separated by region Europe is equivalent to the US\n",
    "-   extrene majority intend for their carbon to go into dedicated storage\n",
    "-   most of them are about capture (and not transporting, storing, or using carbon)\n",
    "\n",
    "We have then the median picture of a CCUS project: a company in Europe or the US that has plans to capture for somebody else to store it.\n",
    "\n",
    "There should be space, then, for companies to invest in areas other than capture, and to use all the carbon that will be available for storage.\n",
    "\n",
    "This makes sense considering the US's plan to become an environmental powerhouse (), but it is noticeable that Chinese companies don't seem to want to compete on this front.\n"
   ]
  },
  {
   "cell_type": "markdown",
   "metadata": {},
   "source": [
    "### Numerical parameters\n"
   ]
  },
  {
   "cell_type": "markdown",
   "metadata": {},
   "source": [
    "-   Announcement\n",
    "-   Announced capacity (Mt CO2/yr)\n",
    "-   Estimated capacity by IEA (Mt CO2/yr)\n",
    "-   Capacity error\n"
   ]
  },
  {
   "cell_type": "code",
   "execution_count": 605,
   "metadata": {},
   "outputs": [],
   "source": [
    "numerical_features = [\n",
    "    \"Announcement\",\n",
    "    \"Announced capacity (Mt CO2/yr)\",\n",
    "    \"Estimated capacity by IEA (Mt CO2/yr)\",\n",
    "    \"Capacity error\"\n",
    "    ]"
   ]
  },
  {
   "cell_type": "code",
   "execution_count": 606,
   "metadata": {},
   "outputs": [
    {
     "data": {
      "text/plain": [
       "<Axes: >"
      ]
     },
     "execution_count": 606,
     "metadata": {},
     "output_type": "execute_result"
    },
    {
     "data": {
      "image/png": "[encoded data removed]",
      "text/plain": [
       "<Figure size 640x480 with 1 Axes>"
      ]
     },
     "metadata": {},
     "output_type": "display_data"
    }
   ],
   "source": [
    "df[\"Announcement\"].hist()"
   ]
  },
  {
   "cell_type": "code",
   "execution_count": 607,
   "metadata": {},
   "outputs": [
    {
     "data": {
      "text/plain": [
       "Announcement\n",
       "2021.0    155\n",
       "2022.0    148\n",
       "2023.0    130\n",
       "2020.0     46\n",
       "2019.0     31\n",
       "2018.0     20\n",
       "2011.0     10\n",
       "2016.0      9\n",
       "2024.0      7\n",
       "2017.0      7\n",
       "2009.0      7\n",
       "2010.0      6\n",
       "2013.0      5\n",
       "2012.0      3\n",
       "2008.0      3\n",
       "2015.0      2\n",
       "2007.0      1\n",
       "2006.0      1\n",
       "1997.0      1\n",
       "1982.0      1\n",
       "2014.0      1\n",
       "1984.0      1\n",
       "1991.0      1\n",
       "2002.0      1\n",
       "Name: count, dtype: int64"
      ]
     },
     "execution_count": 607,
     "metadata": {},
     "output_type": "execute_result"
    }
   ],
   "source": [
    "df['Announcement'].value_counts()"
   ]
  },
  {
   "cell_type": "code",
   "execution_count": 608,
   "metadata": {},
   "outputs": [
    {
     "name": "stdout",
     "output_type": "stream",
     "text": [
      "72.53% of projects announced in 2021-2023\n"
     ]
    }
   ],
   "source": [
    "year_p = (155 + 148 + 130) / df.shape[0]\n",
    "print(f\"{year_p * 100:.2f}% of projects announced in 2021-2023\")"
   ]
  },
  {
   "cell_type": "code",
   "execution_count": 609,
   "metadata": {},
   "outputs": [
    {
     "data": {
      "text/plain": [
       "<Axes: >"
      ]
     },
     "execution_count": 609,
     "metadata": {},
     "output_type": "execute_result"
    },
    {
     "data": {
      "image/png": "[encoded data removed]",
      "text/plain": [
       "<Figure size 640x480 with 1 Axes>"
      ]
     },
     "metadata": {},
     "output_type": "display_data"
    }
   ],
   "source": [
    "df[\"Announced capacity (Mt CO2/yr)\"].hist(bins=50)"
   ]
  },
  {
   "cell_type": "code",
   "execution_count": 610,
   "metadata": {},
   "outputs": [
    {
     "data": {
      "text/plain": [
       "<Axes: >"
      ]
     },
     "execution_count": 610,
     "metadata": {},
     "output_type": "execute_result"
    },
    {
     "data": {
      "image/png": "[encoded data removed]",
      "text/plain": [
       "<Figure size 640x480 with 1 Axes>"
      ]
     },
     "metadata": {},
     "output_type": "display_data"
    }
   ],
   "source": [
    "df[\"Announced capacity (Mt CO2/yr)\"].drop([635,676]).hist(bins=100)"
   ]
  },
  {
   "cell_type": "code",
   "execution_count": 611,
   "metadata": {},
   "outputs": [
    {
     "data": {
      "text/plain": [
       "<Axes: >"
      ]
     },
     "execution_count": 611,
     "metadata": {},
     "output_type": "execute_result"
    },
    {
     "data": {
      "image/png": "[encoded data removed]",
      "text/plain": [
       "<Figure size 640x480 with 1 Axes>"
      ]
     },
     "metadata": {},
     "output_type": "display_data"
    }
   ],
   "source": [
    "df[\"Estimated capacity by IEA (Mt CO2/yr)\"].drop([635,676]).hist(bins=50)"
   ]
  },
  {
   "cell_type": "code",
   "execution_count": 612,
   "metadata": {},
   "outputs": [
    {
     "data": {
      "text/plain": [
       "28       0.001\n",
       "784      0.001\n",
       "662      0.001\n",
       "692      0.002\n",
       "191      0.004\n",
       "        ...   \n",
       "794     30.000\n",
       "773     30.000\n",
       "319     40.000\n",
       "676    120.000\n",
       "635    250.000\n",
       "Name: Estimated capacity by IEA (Mt CO2/yr), Length: 597, dtype: float64"
      ]
     },
     "execution_count": 612,
     "metadata": {},
     "output_type": "execute_result"
    }
   ],
   "source": [
    "df[\"Estimated capacity by IEA (Mt CO2/yr)\"].sort_values()"
   ]
  },
  {
   "cell_type": "code",
   "execution_count": 613,
   "metadata": {},
   "outputs": [
    {
     "data": {
      "text/plain": [
       "<Axes: >"
      ]
     },
     "execution_count": 613,
     "metadata": {},
     "output_type": "execute_result"
    },
    {
     "data": {
      "image/png": "[encoded data removed]",
      "text/plain": [
       "<Figure size 640x480 with 1 Axes>"
      ]
     },
     "metadata": {},
     "output_type": "display_data"
    }
   ],
   "source": [
    "df[\"Capacity error\"].hist(bins=10)"
   ]
  },
  {
   "cell_type": "markdown",
   "metadata": {},
   "source": [
    "### Outliers\n"
   ]
  },
  {
   "cell_type": "markdown",
   "metadata": {},
   "source": [
    "#todo get back the whole dataset for this\n"
   ]
  },
  {
   "cell_type": "code",
   "execution_count": 614,
   "metadata": {},
   "outputs": [
    {
     "data": {
      "text/html": [
       "<div>\n",
       "<style scoped>\n",
       "    .dataframe tbody tr th:only-of-type {\n",
       "        vertical-align: middle;\n",
       "    }\n",
       "\n",
       "    .dataframe tbody tr th {\n",
       "        vertical-align: top;\n",
       "    }\n",
       "\n",
       "    .dataframe thead th {\n",
       "        text-align: right;\n",
       "    }\n",
       "</style>\n",
       "<table border=\"1\" class=\"dataframe\">\n",
       "  <thead>\n",
       "    <tr style=\"text-align: right;\">\n",
       "      <th></th>\n",
       "      <th>ID</th>\n",
       "      <th>Country</th>\n",
       "      <th>Project type</th>\n",
       "      <th>Announcement</th>\n",
       "      <th>Project Status</th>\n",
       "      <th>Announced capacity (Mt CO2/yr)</th>\n",
       "      <th>Estimated capacity by IEA (Mt CO2/yr)</th>\n",
       "      <th>Sector</th>\n",
       "      <th>Fate of carbon</th>\n",
       "      <th>Region</th>\n",
       "      <th>Capacity error</th>\n",
       "    </tr>\n",
       "  </thead>\n",
       "  <tbody>\n",
       "    <tr>\n",
       "      <th>359</th>\n",
       "      <td>838</td>\n",
       "      <td>Kenya</td>\n",
       "      <td>Full Chain</td>\n",
       "      <td>2023.0</td>\n",
       "      <td>Planned</td>\n",
       "      <td>1.0</td>\n",
       "      <td>1.0</td>\n",
       "      <td>DAC</td>\n",
       "      <td>Dedicated storage</td>\n",
       "      <td>Africa</td>\n",
       "      <td>0.0</td>\n",
       "    </tr>\n",
       "    <tr>\n",
       "      <th>749</th>\n",
       "      <td>622</td>\n",
       "      <td>Lybia</td>\n",
       "      <td>Full Chain</td>\n",
       "      <td>2023.0</td>\n",
       "      <td>Planned</td>\n",
       "      <td>1.6</td>\n",
       "      <td>1.6</td>\n",
       "      <td>Natural gas processing/LNG</td>\n",
       "      <td>Dedicated storage</td>\n",
       "      <td>Africa</td>\n",
       "      <td>0.0</td>\n",
       "    </tr>\n",
       "  </tbody>\n",
       "</table>\n",
       "</div>"
      ],
      "text/plain": [
       "      ID Country Project type  Announcement Project Status  \\\n",
       "359  838   Kenya   Full Chain        2023.0        Planned   \n",
       "749  622   Lybia   Full Chain        2023.0        Planned   \n",
       "\n",
       "     Announced capacity (Mt CO2/yr)  Estimated capacity by IEA (Mt CO2/yr)  \\\n",
       "359                             1.0                                    1.0   \n",
       "749                             1.6                                    1.6   \n",
       "\n",
       "                         Sector     Fate of carbon  Region  Capacity error  \n",
       "359                         DAC  Dedicated storage  Africa             0.0  \n",
       "749  Natural gas processing/LNG  Dedicated storage  Africa             0.0  "
      ]
     },
     "execution_count": 614,
     "metadata": {},
     "output_type": "execute_result"
    }
   ],
   "source": [
    "df[df['Region'] == 'Africa']"
   ]
  },
  {
   "cell_type": "code",
   "execution_count": 615,
   "metadata": {},
   "outputs": [
    {
     "data": {
      "text/html": [
       "<div>\n",
       "<style scoped>\n",
       "    .dataframe tbody tr th:only-of-type {\n",
       "        vertical-align: middle;\n",
       "    }\n",
       "\n",
       "    .dataframe tbody tr th {\n",
       "        vertical-align: top;\n",
       "    }\n",
       "\n",
       "    .dataframe thead th {\n",
       "        text-align: right;\n",
       "    }\n",
       "</style>\n",
       "<table border=\"1\" class=\"dataframe\">\n",
       "  <thead>\n",
       "    <tr style=\"text-align: right;\">\n",
       "      <th></th>\n",
       "      <th>ID</th>\n",
       "      <th>Country</th>\n",
       "      <th>Project type</th>\n",
       "      <th>Announcement</th>\n",
       "      <th>Project Status</th>\n",
       "      <th>Announced capacity (Mt CO2/yr)</th>\n",
       "      <th>Estimated capacity by IEA (Mt CO2/yr)</th>\n",
       "      <th>Sector</th>\n",
       "      <th>Fate of carbon</th>\n",
       "      <th>Region</th>\n",
       "      <th>Capacity error</th>\n",
       "    </tr>\n",
       "  </thead>\n",
       "  <tbody>\n",
       "    <tr>\n",
       "      <th>635</th>\n",
       "      <td>799</td>\n",
       "      <td>United States</td>\n",
       "      <td>Transport</td>\n",
       "      <td>2023.0</td>\n",
       "      <td>Planned</td>\n",
       "      <td>250.0</td>\n",
       "      <td>250.0</td>\n",
       "      <td>Transport</td>\n",
       "      <td>Unknown/unspecified</td>\n",
       "      <td>North America</td>\n",
       "      <td>0.0</td>\n",
       "    </tr>\n",
       "    <tr>\n",
       "      <th>676</th>\n",
       "      <td>798</td>\n",
       "      <td>United States</td>\n",
       "      <td>Transport</td>\n",
       "      <td>2023.0</td>\n",
       "      <td>Planned</td>\n",
       "      <td>120.0</td>\n",
       "      <td>120.0</td>\n",
       "      <td>Transport</td>\n",
       "      <td>Unknown/unspecified</td>\n",
       "      <td>North America</td>\n",
       "      <td>0.0</td>\n",
       "    </tr>\n",
       "  </tbody>\n",
       "</table>\n",
       "</div>"
      ],
      "text/plain": [
       "      ID        Country Project type  Announcement Project Status  \\\n",
       "635  799  United States    Transport        2023.0        Planned   \n",
       "676  798  United States    Transport        2023.0        Planned   \n",
       "\n",
       "     Announced capacity (Mt CO2/yr)  Estimated capacity by IEA (Mt CO2/yr)  \\\n",
       "635                           250.0                                  250.0   \n",
       "676                           120.0                                  120.0   \n",
       "\n",
       "        Sector       Fate of carbon         Region  Capacity error  \n",
       "635  Transport  Unknown/unspecified  North America             0.0  \n",
       "676  Transport  Unknown/unspecified  North America             0.0  "
      ]
     },
     "execution_count": 615,
     "metadata": {},
     "output_type": "execute_result"
    }
   ],
   "source": [
    "df[df['Announced capacity (Mt CO2/yr)'] > 100]"
   ]
  },
  {
   "cell_type": "code",
   "execution_count": 616,
   "metadata": {},
   "outputs": [
    {
     "data": {
      "text/html": [
       "<div>\n",
       "<style scoped>\n",
       "    .dataframe tbody tr th:only-of-type {\n",
       "        vertical-align: middle;\n",
       "    }\n",
       "\n",
       "    .dataframe tbody tr th {\n",
       "        vertical-align: top;\n",
       "    }\n",
       "\n",
       "    .dataframe thead th {\n",
       "        text-align: right;\n",
       "    }\n",
       "</style>\n",
       "<table border=\"1\" class=\"dataframe\">\n",
       "  <thead>\n",
       "    <tr style=\"text-align: right;\">\n",
       "      <th></th>\n",
       "      <th>ID</th>\n",
       "      <th>Country</th>\n",
       "      <th>Project type</th>\n",
       "      <th>Announcement</th>\n",
       "      <th>Project Status</th>\n",
       "      <th>Announced capacity (Mt CO2/yr)</th>\n",
       "      <th>Estimated capacity by IEA (Mt CO2/yr)</th>\n",
       "      <th>Sector</th>\n",
       "      <th>Fate of carbon</th>\n",
       "      <th>Region</th>\n",
       "      <th>Capacity error</th>\n",
       "    </tr>\n",
       "  </thead>\n",
       "  <tbody>\n",
       "    <tr>\n",
       "      <th>294</th>\n",
       "      <td>144</td>\n",
       "      <td>United States</td>\n",
       "      <td>Full Chain</td>\n",
       "      <td>1982.0</td>\n",
       "      <td>Operational</td>\n",
       "      <td>0.68</td>\n",
       "      <td>0.68</td>\n",
       "      <td>Chemicals</td>\n",
       "      <td>EOR</td>\n",
       "      <td>North America</td>\n",
       "      <td>0.0</td>\n",
       "    </tr>\n",
       "    <tr>\n",
       "      <th>360</th>\n",
       "      <td>176</td>\n",
       "      <td>United States</td>\n",
       "      <td>Full Chain</td>\n",
       "      <td>1997.0</td>\n",
       "      <td>Operational</td>\n",
       "      <td>3.00</td>\n",
       "      <td>3.00</td>\n",
       "      <td>Other fuel transformation</td>\n",
       "      <td>EOR</td>\n",
       "      <td>North America</td>\n",
       "      <td>0.0</td>\n",
       "    </tr>\n",
       "    <tr>\n",
       "      <th>476</th>\n",
       "      <td>252</td>\n",
       "      <td>United States</td>\n",
       "      <td>Full Chain</td>\n",
       "      <td>1984.0</td>\n",
       "      <td>Operational</td>\n",
       "      <td>3.50</td>\n",
       "      <td>3.50</td>\n",
       "      <td>Natural gas processing/LNG</td>\n",
       "      <td>EOR</td>\n",
       "      <td>North America</td>\n",
       "      <td>0.0</td>\n",
       "    </tr>\n",
       "    <tr>\n",
       "      <th>735</th>\n",
       "      <td>374</td>\n",
       "      <td>Norway</td>\n",
       "      <td>Full Chain</td>\n",
       "      <td>1991.0</td>\n",
       "      <td>Operational</td>\n",
       "      <td>1.00</td>\n",
       "      <td>1.00</td>\n",
       "      <td>Natural gas processing/LNG</td>\n",
       "      <td>Dedicated storage</td>\n",
       "      <td>Europe</td>\n",
       "      <td>0.0</td>\n",
       "    </tr>\n",
       "  </tbody>\n",
       "</table>\n",
       "</div>"
      ],
      "text/plain": [
       "      ID        Country Project type  Announcement Project Status  \\\n",
       "294  144  United States   Full Chain        1982.0    Operational   \n",
       "360  176  United States   Full Chain        1997.0    Operational   \n",
       "476  252  United States   Full Chain        1984.0    Operational   \n",
       "735  374         Norway   Full Chain        1991.0    Operational   \n",
       "\n",
       "     Announced capacity (Mt CO2/yr)  Estimated capacity by IEA (Mt CO2/yr)  \\\n",
       "294                            0.68                                   0.68   \n",
       "360                            3.00                                   3.00   \n",
       "476                            3.50                                   3.50   \n",
       "735                            1.00                                   1.00   \n",
       "\n",
       "                         Sector     Fate of carbon         Region  \\\n",
       "294                   Chemicals                EOR  North America   \n",
       "360   Other fuel transformation                EOR  North America   \n",
       "476  Natural gas processing/LNG                EOR  North America   \n",
       "735  Natural gas processing/LNG  Dedicated storage         Europe   \n",
       "\n",
       "     Capacity error  \n",
       "294             0.0  \n",
       "360             0.0  \n",
       "476             0.0  \n",
       "735             0.0  "
      ]
     },
     "execution_count": 616,
     "metadata": {},
     "output_type": "execute_result"
    }
   ],
   "source": [
    "df[df['Announcement'] < 2000]"
   ]
  },
  {
   "cell_type": "markdown",
   "metadata": {},
   "source": [
    "## Insights\n"
   ]
  },
  {
   "cell_type": "markdown",
   "metadata": {},
   "source": [
    "The data continues being homogenous: more than 500 out of 600 projects were announced after 2020, are small scale, and do not diverge from the estimate. Given the kind of data this is, it might be interesting to investigate what makes the outliers special. Either by their scale (`676`, `635`) or their country of origin (`359`, `749`) or date of announcement (294, 360, 476, 735).\n",
    "\n",
    "By knowing the state of the field that is being planned, we can better know how to make a company that is not one among hundreds of others doing the same thing and instead fit within a niche\n"
   ]
  },
  {
   "cell_type": "markdown",
   "metadata": {},
   "source": [
    "## By plans\n"
   ]
  },
  {
   "cell_type": "code",
   "execution_count": 617,
   "metadata": {},
   "outputs": [],
   "source": [
    "# numerical_features = [\n",
    "#     \"Announcement\",\n",
    "#     \"Announced capacity (Mt CO2/yr)\",\n",
    "#     ]\n",
    "\n",
    "# for item in numerical_features:\n",
    "#     df[item].hist(bins=50, by=df[\"Project Status\"], layout=(1,4), figsize=(16,4))"
   ]
  },
  {
   "cell_type": "code",
   "execution_count": 622,
   "metadata": {},
   "outputs": [
    {
     "name": "stderr",
     "output_type": "stream",
     "text": [
      "/tmp/ipykernel_38544/1008083136.py:1: FutureWarning: The default of observed=False is deprecated and will be changed to True in a future version of pandas. Pass observed=False to retain current behavior or observed=True to adopt the future default and silence this warning.\n",
      "  df[['Announcement', 'Project Status']].groupby('Project Status').describe()\n"
     ]
    },
    {
     "data": {
      "text/html": [
       "<div>\n",
       "<style scoped>\n",
       "    .dataframe tbody tr th:only-of-type {\n",
       "        vertical-align: middle;\n",
       "    }\n",
       "\n",
       "    .dataframe tbody tr th {\n",
       "        vertical-align: top;\n",
       "    }\n",
       "\n",
       "    .dataframe thead tr th {\n",
       "        text-align: left;\n",
       "    }\n",
       "\n",
       "    .dataframe thead tr:last-of-type th {\n",
       "        text-align: right;\n",
       "    }\n",
       "</style>\n",
       "<table border=\"1\" class=\"dataframe\">\n",
       "  <thead>\n",
       "    <tr>\n",
       "      <th></th>\n",
       "      <th colspan=\"8\" halign=\"left\">Announcement</th>\n",
       "    </tr>\n",
       "    <tr>\n",
       "      <th></th>\n",
       "      <th>count</th>\n",
       "      <th>mean</th>\n",
       "      <th>std</th>\n",
       "      <th>min</th>\n",
       "      <th>25%</th>\n",
       "      <th>50%</th>\n",
       "      <th>75%</th>\n",
       "      <th>max</th>\n",
       "    </tr>\n",
       "    <tr>\n",
       "      <th>Project Status</th>\n",
       "      <th></th>\n",
       "      <th></th>\n",
       "      <th></th>\n",
       "      <th></th>\n",
       "      <th></th>\n",
       "      <th></th>\n",
       "      <th></th>\n",
       "      <th></th>\n",
       "    </tr>\n",
       "  </thead>\n",
       "  <tbody>\n",
       "    <tr>\n",
       "      <th>Operational</th>\n",
       "      <td>40.0</td>\n",
       "      <td>2010.400000</td>\n",
       "      <td>9.071793</td>\n",
       "      <td>1982.0</td>\n",
       "      <td>2008.75</td>\n",
       "      <td>2011.0</td>\n",
       "      <td>2016.0</td>\n",
       "      <td>2022.0</td>\n",
       "    </tr>\n",
       "    <tr>\n",
       "      <th>Planned</th>\n",
       "      <td>515.0</td>\n",
       "      <td>2021.196117</td>\n",
       "      <td>2.115899</td>\n",
       "      <td>2009.0</td>\n",
       "      <td>2021.00</td>\n",
       "      <td>2022.0</td>\n",
       "      <td>2023.0</td>\n",
       "      <td>2024.0</td>\n",
       "    </tr>\n",
       "    <tr>\n",
       "      <th>Suspended/cancelled/decommissioned</th>\n",
       "      <td>1.0</td>\n",
       "      <td>2009.000000</td>\n",
       "      <td>NaN</td>\n",
       "      <td>2009.0</td>\n",
       "      <td>2009.00</td>\n",
       "      <td>2009.0</td>\n",
       "      <td>2009.0</td>\n",
       "      <td>2009.0</td>\n",
       "    </tr>\n",
       "    <tr>\n",
       "      <th>Under construction</th>\n",
       "      <td>41.0</td>\n",
       "      <td>2020.268293</td>\n",
       "      <td>2.738835</td>\n",
       "      <td>2010.0</td>\n",
       "      <td>2019.00</td>\n",
       "      <td>2021.0</td>\n",
       "      <td>2022.0</td>\n",
       "      <td>2023.0</td>\n",
       "    </tr>\n",
       "  </tbody>\n",
       "</table>\n",
       "</div>"
      ],
      "text/plain": [
       "                                   Announcement                         \\\n",
       "                                          count         mean       std   \n",
       "Project Status                                                           \n",
       "Operational                                40.0  2010.400000  9.071793   \n",
       "Planned                                   515.0  2021.196117  2.115899   \n",
       "Suspended/cancelled/decommissioned          1.0  2009.000000       NaN   \n",
       "Under construction                         41.0  2020.268293  2.738835   \n",
       "\n",
       "                                                                             \n",
       "                                       min      25%     50%     75%     max  \n",
       "Project Status                                                               \n",
       "Operational                         1982.0  2008.75  2011.0  2016.0  2022.0  \n",
       "Planned                             2009.0  2021.00  2022.0  2023.0  2024.0  \n",
       "Suspended/cancelled/decommissioned  2009.0  2009.00  2009.0  2009.0  2009.0  \n",
       "Under construction                  2010.0  2019.00  2021.0  2022.0  2023.0  "
      ]
     },
     "execution_count": 622,
     "metadata": {},
     "output_type": "execute_result"
    }
   ],
   "source": [
    "df[['Announcement', 'Project Status']].groupby('Project Status').describe()"
   ]
  },
  {
   "cell_type": "code",
   "execution_count": 623,
   "metadata": {},
   "outputs": [
    {
     "name": "stderr",
     "output_type": "stream",
     "text": [
      "/tmp/ipykernel_38544/825036085.py:1: FutureWarning: The default of observed=False is deprecated and will be changed to True in a future version of pandas. Pass observed=False to retain current behavior or observed=True to adopt the future default and silence this warning.\n",
      "  df[[\"Announced capacity (Mt CO2/yr)\", 'Project Status']].groupby('Project Status').describe()\n"
     ]
    },
    {
     "data": {
      "text/html": [
       "<div>\n",
       "<style scoped>\n",
       "    .dataframe tbody tr th:only-of-type {\n",
       "        vertical-align: middle;\n",
       "    }\n",
       "\n",
       "    .dataframe tbody tr th {\n",
       "        vertical-align: top;\n",
       "    }\n",
       "\n",
       "    .dataframe thead tr th {\n",
       "        text-align: left;\n",
       "    }\n",
       "\n",
       "    .dataframe thead tr:last-of-type th {\n",
       "        text-align: right;\n",
       "    }\n",
       "</style>\n",
       "<table border=\"1\" class=\"dataframe\">\n",
       "  <thead>\n",
       "    <tr>\n",
       "      <th></th>\n",
       "      <th colspan=\"8\" halign=\"left\">Announced capacity (Mt CO2/yr)</th>\n",
       "    </tr>\n",
       "    <tr>\n",
       "      <th></th>\n",
       "      <th>count</th>\n",
       "      <th>mean</th>\n",
       "      <th>std</th>\n",
       "      <th>min</th>\n",
       "      <th>25%</th>\n",
       "      <th>50%</th>\n",
       "      <th>75%</th>\n",
       "      <th>max</th>\n",
       "    </tr>\n",
       "    <tr>\n",
       "      <th>Project Status</th>\n",
       "      <th></th>\n",
       "      <th></th>\n",
       "      <th></th>\n",
       "      <th></th>\n",
       "      <th></th>\n",
       "      <th></th>\n",
       "      <th></th>\n",
       "      <th></th>\n",
       "    </tr>\n",
       "  </thead>\n",
       "  <tbody>\n",
       "    <tr>\n",
       "      <th>Operational</th>\n",
       "      <td>40.0</td>\n",
       "      <td>1.445125</td>\n",
       "      <td>2.583354</td>\n",
       "      <td>0.001</td>\n",
       "      <td>0.195</td>\n",
       "      <td>0.75</td>\n",
       "      <td>1.150</td>\n",
       "      <td>14.60</td>\n",
       "    </tr>\n",
       "    <tr>\n",
       "      <th>Planned</th>\n",
       "      <td>515.0</td>\n",
       "      <td>3.760035</td>\n",
       "      <td>12.906735</td>\n",
       "      <td>0.001</td>\n",
       "      <td>0.440</td>\n",
       "      <td>1.42</td>\n",
       "      <td>3.575</td>\n",
       "      <td>250.00</td>\n",
       "    </tr>\n",
       "    <tr>\n",
       "      <th>Suspended/cancelled/decommissioned</th>\n",
       "      <td>1.0</td>\n",
       "      <td>0.330000</td>\n",
       "      <td>NaN</td>\n",
       "      <td>0.330</td>\n",
       "      <td>0.330</td>\n",
       "      <td>0.33</td>\n",
       "      <td>0.330</td>\n",
       "      <td>0.33</td>\n",
       "    </tr>\n",
       "    <tr>\n",
       "      <th>Under construction</th>\n",
       "      <td>41.0</td>\n",
       "      <td>1.462098</td>\n",
       "      <td>1.976315</td>\n",
       "      <td>0.001</td>\n",
       "      <td>0.300</td>\n",
       "      <td>0.75</td>\n",
       "      <td>1.700</td>\n",
       "      <td>10.00</td>\n",
       "    </tr>\n",
       "  </tbody>\n",
       "</table>\n",
       "</div>"
      ],
      "text/plain": [
       "                                   Announced capacity (Mt CO2/yr)            \\\n",
       "                                                            count      mean   \n",
       "Project Status                                                                \n",
       "Operational                                                  40.0  1.445125   \n",
       "Planned                                                     515.0  3.760035   \n",
       "Suspended/cancelled/decommissioned                            1.0  0.330000   \n",
       "Under construction                                           41.0  1.462098   \n",
       "\n",
       "                                                                          \\\n",
       "                                          std    min    25%   50%    75%   \n",
       "Project Status                                                             \n",
       "Operational                          2.583354  0.001  0.195  0.75  1.150   \n",
       "Planned                             12.906735  0.001  0.440  1.42  3.575   \n",
       "Suspended/cancelled/decommissioned        NaN  0.330  0.330  0.33  0.330   \n",
       "Under construction                   1.976315  0.001  0.300  0.75  1.700   \n",
       "\n",
       "                                            \n",
       "                                       max  \n",
       "Project Status                              \n",
       "Operational                          14.60  \n",
       "Planned                             250.00  \n",
       "Suspended/cancelled/decommissioned    0.33  \n",
       "Under construction                   10.00  "
      ]
     },
     "execution_count": 623,
     "metadata": {},
     "output_type": "execute_result"
    }
   ],
   "source": [
    "df[[\"Announced capacity (Mt CO2/yr)\", 'Project Status']].groupby('Project Status').describe()"
   ]
  },
  {
   "cell_type": "code",
   "execution_count": 631,
   "metadata": {},
   "outputs": [
    {
     "data": {
      "text/plain": [
       "count    513.000000\n",
       "mean       3.053446\n",
       "std        4.681685\n",
       "min        0.001000\n",
       "25%        0.440000\n",
       "50%        1.400000\n",
       "75%        3.500000\n",
       "max       30.000000\n",
       "Name: Announced capacity (Mt CO2/yr), dtype: float64"
      ]
     },
     "execution_count": 631,
     "metadata": {},
     "output_type": "execute_result"
    }
   ],
   "source": [
    "df[df['Project Status'] == 'Planned']['Announced capacity (Mt CO2/yr)'].drop([635,676]).describe()"
   ]
  },
  {
   "cell_type": "markdown",
   "metadata": {},
   "source": [
    "-   Operational: mean 1.4 and std 2.5\n",
    "-   Planned: mean 3.0 and std 4.6\n",
    "\n",
    "Sounds like the projects will, on average, double their capacity to capture carbon.\n",
    "\n",
    "We might want to do some categories though.\n"
   ]
  },
  {
   "cell_type": "markdown",
   "metadata": {},
   "source": [
    "### Hypothesis testing\n",
    "\n",
    "?\n"
   ]
  },
  {
   "cell_type": "markdown",
   "metadata": {},
   "source": [
    "## Conclusion\n"
   ]
  },
  {
   "cell_type": "markdown",
   "metadata": {},
   "source": [
    "This project showcases data cleaning, feature engineering and descriptive statistics.\n"
   ]
  },
  {
   "cell_type": "markdown",
   "metadata": {},
   "source": []
  }
 ],
 "metadata": {
  "kernelspec": {
   "display_name": ".venv",
   "language": "python",
   "name": "python3"
  },
  "language_info": {
   "codemirror_mode": {
    "name": "ipython",
    "version": 3
   },
   "file_extension": ".py",
   "mimetype": "text/x-python",
   "name": "python",
   "nbconvert_exporter": "python",
   "pygments_lexer": "ipython3",
   "version": "3.10.12"
  }
 },
 "nbformat": 4,
 "nbformat_minor": 2
}
