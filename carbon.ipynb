{
 "cells": [
  {
   "cell_type": "markdown",
   "metadata": {},
   "source": [
    "# data assignment research question\n",
    "\n",
    "TODO:\n",
    "- find a research question and do it\n",
    "- combine 2 categories\n",
    "- pivot using country categories\n",
    "- fix hist to make them more meaningful\n",
    "- make viz beautiful"
   ]
  },
  {
   "cell_type": "markdown",
   "metadata": {},
   "source": [
    "## CCUS: Carbon capture, utilization and storage\n",
    "\n",
    "Data source: IEA (2024), CCUS Projects Database, https://www.iea.org/data-and-statistics/data-product/ccus-projects-database\n"
   ]
  },
  {
   "cell_type": "markdown",
   "metadata": {},
   "source": [
    "## Research question\n"
   ]
  },
  {
   "cell_type": "markdown",
   "metadata": {},
   "source": [
    "?\n"
   ]
  },
  {
   "cell_type": "markdown",
   "metadata": {},
   "source": [
    "## Hypothesis\n"
   ]
  },
  {
   "cell_type": "markdown",
   "metadata": {},
   "source": [
    "Null hypothesis (H<sub>0</sub>): there is no statistical discernible difference between\n",
    "\n",
    "Alternative hypothesis (H<sub>A</sub>): there is a statistical discernible difference between\n"
   ]
  },
  {
   "cell_type": "markdown",
   "metadata": {},
   "source": [
    "## Data cleaning\n"
   ]
  },
  {
   "cell_type": "code",
   "execution_count": 119,
   "metadata": {},
   "outputs": [
    {
     "data": {
      "text/html": [
       "<div>\n",
       "<style scoped>\n",
       "    .dataframe tbody tr th:only-of-type {\n",
       "        vertical-align: middle;\n",
       "    }\n",
       "\n",
       "    .dataframe tbody tr th {\n",
       "        vertical-align: top;\n",
       "    }\n",
       "\n",
       "    .dataframe thead th {\n",
       "        text-align: right;\n",
       "    }\n",
       "</style>\n",
       "<table border=\"1\" class=\"dataframe\">\n",
       "  <thead>\n",
       "    <tr style=\"text-align: right;\">\n",
       "      <th></th>\n",
       "      <th>Project name</th>\n",
       "      <th>ID</th>\n",
       "      <th>Country</th>\n",
       "      <th>Partners</th>\n",
       "      <th>Project type</th>\n",
       "      <th>Announcement</th>\n",
       "      <th>FID</th>\n",
       "      <th>Operation</th>\n",
       "      <th>Suspension/decommissioning</th>\n",
       "      <th>Project Status</th>\n",
       "      <th>...</th>\n",
       "      <th>Ref 5</th>\n",
       "      <th>Ref 6</th>\n",
       "      <th>Ref 7</th>\n",
       "      <th>Link 1</th>\n",
       "      <th>Link 2</th>\n",
       "      <th>Link 3</th>\n",
       "      <th>Link 4</th>\n",
       "      <th>Link 5</th>\n",
       "      <th>Link 6</th>\n",
       "      <th>Link 7</th>\n",
       "    </tr>\n",
       "  </thead>\n",
       "  <tbody>\n",
       "    <tr>\n",
       "      <th>0</th>\n",
       "      <td>3D DMX ArcelorMittal and IFPEN Dunkirk (full-s...</td>\n",
       "      <td>1</td>\n",
       "      <td>France</td>\n",
       "      <td>ArcelorMittal, ifp, Axens, Uetikon, Grassco, b...</td>\n",
       "      <td>Capture</td>\n",
       "      <td>2019.0</td>\n",
       "      <td>NaN</td>\n",
       "      <td>2025.0</td>\n",
       "      <td>NaN</td>\n",
       "      <td>Planned</td>\n",
       "      <td>...</td>\n",
       "      <td>NaN</td>\n",
       "      <td>NaN</td>\n",
       "      <td>NaN</td>\n",
       "      <td>Link 1</td>\n",
       "      <td>Link 2</td>\n",
       "      <td>NaN</td>\n",
       "      <td>NaN</td>\n",
       "      <td>NaN</td>\n",
       "      <td>NaN</td>\n",
       "      <td>NaN</td>\n",
       "    </tr>\n",
       "    <tr>\n",
       "      <th>1</th>\n",
       "      <td>3D DMX ArcelorMittal and IFPEN Dunkirk 'REUZE'</td>\n",
       "      <td>751</td>\n",
       "      <td>France</td>\n",
       "      <td>ArcelorMittal, Engie, Infinium</td>\n",
       "      <td>CCU</td>\n",
       "      <td>2022.0</td>\n",
       "      <td>2024.0</td>\n",
       "      <td>2025.0</td>\n",
       "      <td>NaN</td>\n",
       "      <td>Planned</td>\n",
       "      <td>...</td>\n",
       "      <td>NaN</td>\n",
       "      <td>NaN</td>\n",
       "      <td>NaN</td>\n",
       "      <td>Link 1</td>\n",
       "      <td>Link 2</td>\n",
       "      <td>NaN</td>\n",
       "      <td>NaN</td>\n",
       "      <td>NaN</td>\n",
       "      <td>NaN</td>\n",
       "      <td>NaN</td>\n",
       "    </tr>\n",
       "    <tr>\n",
       "      <th>2</th>\n",
       "      <td>7 Blue Ammonia Facility</td>\n",
       "      <td>1055</td>\n",
       "      <td>Qatar</td>\n",
       "      <td>QAFCO, thyssenkrupp Uhde/Consolidated Contract...</td>\n",
       "      <td>Full Chain</td>\n",
       "      <td>2022.0</td>\n",
       "      <td>2022.0</td>\n",
       "      <td>2026.0</td>\n",
       "      <td>NaN</td>\n",
       "      <td>Under construction</td>\n",
       "      <td>...</td>\n",
       "      <td>NaN</td>\n",
       "      <td>NaN</td>\n",
       "      <td>NaN</td>\n",
       "      <td>Link 1</td>\n",
       "      <td>Link 2</td>\n",
       "      <td>NaN</td>\n",
       "      <td>NaN</td>\n",
       "      <td>NaN</td>\n",
       "      <td>NaN</td>\n",
       "      <td>NaN</td>\n",
       "    </tr>\n",
       "    <tr>\n",
       "      <th>3</th>\n",
       "      <td>8Rivers H2 (8RH2) (WY)</td>\n",
       "      <td>3</td>\n",
       "      <td>United States</td>\n",
       "      <td>8Rivers, Wyoming Energy Authority</td>\n",
       "      <td>Capture</td>\n",
       "      <td>2022.0</td>\n",
       "      <td>NaN</td>\n",
       "      <td>NaN</td>\n",
       "      <td>NaN</td>\n",
       "      <td>Planned</td>\n",
       "      <td>...</td>\n",
       "      <td>NaN</td>\n",
       "      <td>NaN</td>\n",
       "      <td>NaN</td>\n",
       "      <td>Link 1</td>\n",
       "      <td>NaN</td>\n",
       "      <td>NaN</td>\n",
       "      <td>NaN</td>\n",
       "      <td>NaN</td>\n",
       "      <td>NaN</td>\n",
       "      <td>NaN</td>\n",
       "    </tr>\n",
       "    <tr>\n",
       "      <th>4</th>\n",
       "      <td>Abadi CCS/CCUS</td>\n",
       "      <td>227</td>\n",
       "      <td>Indonesia</td>\n",
       "      <td>Inpex Masela 65%, Shell (trying to find a buye...</td>\n",
       "      <td>Full chain</td>\n",
       "      <td>2018.0</td>\n",
       "      <td>NaN</td>\n",
       "      <td>2027.0</td>\n",
       "      <td>NaN</td>\n",
       "      <td>Planned</td>\n",
       "      <td>...</td>\n",
       "      <td>NaN</td>\n",
       "      <td>NaN</td>\n",
       "      <td>NaN</td>\n",
       "      <td>Link 1</td>\n",
       "      <td>Link 2</td>\n",
       "      <td>Link 3</td>\n",
       "      <td>NaN</td>\n",
       "      <td>NaN</td>\n",
       "      <td>NaN</td>\n",
       "      <td>NaN</td>\n",
       "    </tr>\n",
       "    <tr>\n",
       "      <th>...</th>\n",
       "      <td>...</td>\n",
       "      <td>...</td>\n",
       "      <td>...</td>\n",
       "      <td>...</td>\n",
       "      <td>...</td>\n",
       "      <td>...</td>\n",
       "      <td>...</td>\n",
       "      <td>...</td>\n",
       "      <td>...</td>\n",
       "      <td>...</td>\n",
       "      <td>...</td>\n",
       "      <td>...</td>\n",
       "      <td>...</td>\n",
       "      <td>...</td>\n",
       "      <td>...</td>\n",
       "      <td>...</td>\n",
       "      <td>...</td>\n",
       "      <td>...</td>\n",
       "      <td>...</td>\n",
       "      <td>...</td>\n",
       "      <td>...</td>\n",
       "    </tr>\n",
       "    <tr>\n",
       "      <th>839</th>\n",
       "      <td>Yara Pilbara ammonia</td>\n",
       "      <td>788</td>\n",
       "      <td>Australia</td>\n",
       "      <td>Yara, JERA</td>\n",
       "      <td>Capture</td>\n",
       "      <td>2021.0</td>\n",
       "      <td>NaN</td>\n",
       "      <td>NaN</td>\n",
       "      <td>NaN</td>\n",
       "      <td>Planned</td>\n",
       "      <td>...</td>\n",
       "      <td>NaN</td>\n",
       "      <td>NaN</td>\n",
       "      <td>NaN</td>\n",
       "      <td>Link 1</td>\n",
       "      <td>NaN</td>\n",
       "      <td>NaN</td>\n",
       "      <td>NaN</td>\n",
       "      <td>NaN</td>\n",
       "      <td>NaN</td>\n",
       "      <td>NaN</td>\n",
       "    </tr>\n",
       "    <tr>\n",
       "      <th>840</th>\n",
       "      <td>Yara Sluiskil fertiliser</td>\n",
       "      <td>465</td>\n",
       "      <td>Netherlands</td>\n",
       "      <td>Yara</td>\n",
       "      <td>Capture</td>\n",
       "      <td>2022.0</td>\n",
       "      <td>2023.0</td>\n",
       "      <td>2026.0</td>\n",
       "      <td>NaN</td>\n",
       "      <td>Under construction</td>\n",
       "      <td>...</td>\n",
       "      <td>NaN</td>\n",
       "      <td>NaN</td>\n",
       "      <td>NaN</td>\n",
       "      <td>Link 1</td>\n",
       "      <td>Link 2</td>\n",
       "      <td>Link 3</td>\n",
       "      <td>NaN</td>\n",
       "      <td>NaN</td>\n",
       "      <td>NaN</td>\n",
       "      <td>NaN</td>\n",
       "    </tr>\n",
       "    <tr>\n",
       "      <th>841</th>\n",
       "      <td>Yara-BASF Gulf Coast</td>\n",
       "      <td>826</td>\n",
       "      <td>United States</td>\n",
       "      <td>Yara, BASF</td>\n",
       "      <td>Capture</td>\n",
       "      <td>2023.0</td>\n",
       "      <td>NaN</td>\n",
       "      <td>2028.0</td>\n",
       "      <td>NaN</td>\n",
       "      <td>Planned</td>\n",
       "      <td>...</td>\n",
       "      <td>NaN</td>\n",
       "      <td>NaN</td>\n",
       "      <td>NaN</td>\n",
       "      <td>Link 1</td>\n",
       "      <td>NaN</td>\n",
       "      <td>NaN</td>\n",
       "      <td>NaN</td>\n",
       "      <td>NaN</td>\n",
       "      <td>NaN</td>\n",
       "      <td>NaN</td>\n",
       "    </tr>\n",
       "    <tr>\n",
       "      <th>842</th>\n",
       "      <td>ZerCal250</td>\n",
       "      <td>640</td>\n",
       "      <td>United Kingdom</td>\n",
       "      <td>Origin, Singleton Birch</td>\n",
       "      <td>Capture</td>\n",
       "      <td>2021.0</td>\n",
       "      <td>NaN</td>\n",
       "      <td>NaN</td>\n",
       "      <td>NaN</td>\n",
       "      <td>Planned</td>\n",
       "      <td>...</td>\n",
       "      <td>NaN</td>\n",
       "      <td>NaN</td>\n",
       "      <td>NaN</td>\n",
       "      <td>Link 1</td>\n",
       "      <td>Link 2</td>\n",
       "      <td>NaN</td>\n",
       "      <td>NaN</td>\n",
       "      <td>NaN</td>\n",
       "      <td>NaN</td>\n",
       "      <td>NaN</td>\n",
       "    </tr>\n",
       "    <tr>\n",
       "      <th>843</th>\n",
       "      <td>Zutica and Ivanic grad EOR extension</td>\n",
       "      <td>725</td>\n",
       "      <td>Croatia</td>\n",
       "      <td>INA/MOL</td>\n",
       "      <td>Storage</td>\n",
       "      <td>NaN</td>\n",
       "      <td>NaN</td>\n",
       "      <td>NaN</td>\n",
       "      <td>NaN</td>\n",
       "      <td>Planned</td>\n",
       "      <td>...</td>\n",
       "      <td>NaN</td>\n",
       "      <td>NaN</td>\n",
       "      <td>NaN</td>\n",
       "      <td>Link 1</td>\n",
       "      <td>NaN</td>\n",
       "      <td>NaN</td>\n",
       "      <td>NaN</td>\n",
       "      <td>NaN</td>\n",
       "      <td>NaN</td>\n",
       "      <td>NaN</td>\n",
       "    </tr>\n",
       "  </tbody>\n",
       "</table>\n",
       "<p>844 rows × 31 columns</p>\n",
       "</div>"
      ],
      "text/plain": [
       "                                          Project name    ID         Country  \\\n",
       "0    3D DMX ArcelorMittal and IFPEN Dunkirk (full-s...     1          France   \n",
       "1       3D DMX ArcelorMittal and IFPEN Dunkirk 'REUZE'   751          France   \n",
       "2                              7 Blue Ammonia Facility  1055           Qatar   \n",
       "3                               8Rivers H2 (8RH2) (WY)     3   United States   \n",
       "4                                       Abadi CCS/CCUS   227       Indonesia   \n",
       "..                                                 ...   ...             ...   \n",
       "839                               Yara Pilbara ammonia   788       Australia   \n",
       "840                           Yara Sluiskil fertiliser   465     Netherlands   \n",
       "841                               Yara-BASF Gulf Coast   826   United States   \n",
       "842                                          ZerCal250   640  United Kingdom   \n",
       "843               Zutica and Ivanic grad EOR extension   725         Croatia   \n",
       "\n",
       "                                              Partners Project type  \\\n",
       "0    ArcelorMittal, ifp, Axens, Uetikon, Grassco, b...      Capture   \n",
       "1                       ArcelorMittal, Engie, Infinium          CCU   \n",
       "2    QAFCO, thyssenkrupp Uhde/Consolidated Contract...   Full Chain   \n",
       "3                    8Rivers, Wyoming Energy Authority      Capture   \n",
       "4    Inpex Masela 65%, Shell (trying to find a buye...   Full chain   \n",
       "..                                                 ...          ...   \n",
       "839                                         Yara, JERA      Capture   \n",
       "840                                               Yara      Capture   \n",
       "841                                         Yara, BASF      Capture   \n",
       "842                            Origin, Singleton Birch      Capture   \n",
       "843                                            INA/MOL      Storage   \n",
       "\n",
       "     Announcement     FID  Operation  Suspension/decommissioning  \\\n",
       "0          2019.0     NaN     2025.0                         NaN   \n",
       "1          2022.0  2024.0     2025.0                         NaN   \n",
       "2          2022.0  2022.0     2026.0                         NaN   \n",
       "3          2022.0     NaN        NaN                         NaN   \n",
       "4          2018.0     NaN     2027.0                         NaN   \n",
       "..            ...     ...        ...                         ...   \n",
       "839        2021.0     NaN        NaN                         NaN   \n",
       "840        2022.0  2023.0     2026.0                         NaN   \n",
       "841        2023.0     NaN     2028.0                         NaN   \n",
       "842        2021.0     NaN        NaN                         NaN   \n",
       "843           NaN     NaN        NaN                         NaN   \n",
       "\n",
       "         Project Status  ...  Ref 5 Ref 6  Ref 7  Link 1  Link 2  Link 3  \\\n",
       "0               Planned  ...    NaN   NaN    NaN  Link 1  Link 2     NaN   \n",
       "1               Planned  ...    NaN   NaN    NaN  Link 1  Link 2     NaN   \n",
       "2    Under construction  ...    NaN   NaN    NaN  Link 1  Link 2     NaN   \n",
       "3               Planned  ...    NaN   NaN    NaN  Link 1     NaN     NaN   \n",
       "4               Planned  ...    NaN   NaN    NaN  Link 1  Link 2  Link 3   \n",
       "..                  ...  ...    ...   ...    ...     ...     ...     ...   \n",
       "839             Planned  ...    NaN   NaN    NaN  Link 1     NaN     NaN   \n",
       "840  Under construction  ...    NaN   NaN    NaN  Link 1  Link 2  Link 3   \n",
       "841             Planned  ...    NaN   NaN    NaN  Link 1     NaN     NaN   \n",
       "842             Planned  ...    NaN   NaN    NaN  Link 1  Link 2     NaN   \n",
       "843             Planned  ...    NaN   NaN    NaN  Link 1     NaN     NaN   \n",
       "\n",
       "    Link 4 Link 5 Link 6 Link 7  \n",
       "0      NaN    NaN    NaN    NaN  \n",
       "1      NaN    NaN    NaN    NaN  \n",
       "2      NaN    NaN    NaN    NaN  \n",
       "3      NaN    NaN    NaN    NaN  \n",
       "4      NaN    NaN    NaN    NaN  \n",
       "..     ...    ...    ...    ...  \n",
       "839    NaN    NaN    NaN    NaN  \n",
       "840    NaN    NaN    NaN    NaN  \n",
       "841    NaN    NaN    NaN    NaN  \n",
       "842    NaN    NaN    NaN    NaN  \n",
       "843    NaN    NaN    NaN    NaN  \n",
       "\n",
       "[844 rows x 31 columns]"
      ]
     },
     "execution_count": 119,
     "metadata": {},
     "output_type": "execute_result"
    }
   ],
   "source": [
    "import numpy as np\n",
    "import pandas as pd\n",
    "\n",
    "\n",
    "df = pd.read_csv(\"data/ccus.csv\")\n",
    "df"
   ]
  },
  {
   "cell_type": "code",
   "execution_count": 120,
   "metadata": {},
   "outputs": [
    {
     "data": {
      "text/plain": [
       "Index(['Project name', 'ID', 'Country', 'Partners', 'Project type',\n",
       "       'Announcement', 'FID', 'Operation', 'Suspension/decommissioning',\n",
       "       'Project Status', 'Project phase', 'Announced capacity (Mt CO2/yr)',\n",
       "       'Estimated capacity by IEA (Mt CO2/yr)', 'Sector', 'Fate of carbon',\n",
       "       'Part of CCUS hub', 'Region', 'Ref 1', 'Ref 2', 'Ref 3', 'Ref 4',\n",
       "       'Ref 5', 'Ref 6', 'Ref 7', 'Link 1', 'Link 2', 'Link 3', 'Link 4',\n",
       "       'Link 5', 'Link 6', 'Link 7'],\n",
       "      dtype='object')"
      ]
     },
     "execution_count": 120,
     "metadata": {},
     "output_type": "execute_result"
    }
   ],
   "source": [
    "df.columns"
   ]
  },
  {
   "cell_type": "markdown",
   "metadata": {},
   "source": [
    "Drop columns which are not relevant for analysis, such as the name of the company.\n"
   ]
  },
  {
   "cell_type": "code",
   "execution_count": 121,
   "metadata": {},
   "outputs": [
    {
     "data": {
      "text/html": [
       "<div>\n",
       "<style scoped>\n",
       "    .dataframe tbody tr th:only-of-type {\n",
       "        vertical-align: middle;\n",
       "    }\n",
       "\n",
       "    .dataframe tbody tr th {\n",
       "        vertical-align: top;\n",
       "    }\n",
       "\n",
       "    .dataframe thead th {\n",
       "        text-align: right;\n",
       "    }\n",
       "</style>\n",
       "<table border=\"1\" class=\"dataframe\">\n",
       "  <thead>\n",
       "    <tr style=\"text-align: right;\">\n",
       "      <th></th>\n",
       "      <th>ID</th>\n",
       "      <th>Country</th>\n",
       "      <th>Project type</th>\n",
       "      <th>Announcement</th>\n",
       "      <th>FID</th>\n",
       "      <th>Operation</th>\n",
       "      <th>Suspension/decommissioning</th>\n",
       "      <th>Project Status</th>\n",
       "      <th>Project phase</th>\n",
       "      <th>Announced capacity (Mt CO2/yr)</th>\n",
       "      <th>Estimated capacity by IEA (Mt CO2/yr)</th>\n",
       "      <th>Sector</th>\n",
       "      <th>Fate of carbon</th>\n",
       "      <th>Region</th>\n",
       "    </tr>\n",
       "  </thead>\n",
       "  <tbody>\n",
       "    <tr>\n",
       "      <th>0</th>\n",
       "      <td>1</td>\n",
       "      <td>France</td>\n",
       "      <td>Capture</td>\n",
       "      <td>2019.0</td>\n",
       "      <td>NaN</td>\n",
       "      <td>2025.0</td>\n",
       "      <td>NaN</td>\n",
       "      <td>Planned</td>\n",
       "      <td>2.0</td>\n",
       "      <td>0.7</td>\n",
       "      <td>0.7</td>\n",
       "      <td>Iron and steel</td>\n",
       "      <td>Unknown/unspecified</td>\n",
       "      <td>Europe</td>\n",
       "    </tr>\n",
       "  </tbody>\n",
       "</table>\n",
       "</div>"
      ],
      "text/plain": [
       "   ID Country Project type  Announcement  FID  Operation  \\\n",
       "0   1  France      Capture        2019.0  NaN     2025.0   \n",
       "\n",
       "   Suspension/decommissioning Project Status  Project phase  \\\n",
       "0                         NaN        Planned            2.0   \n",
       "\n",
       "  Announced capacity (Mt CO2/yr)  Estimated capacity by IEA (Mt CO2/yr)  \\\n",
       "0                            0.7                                    0.7   \n",
       "\n",
       "           Sector       Fate of carbon  Region  \n",
       "0  Iron and steel  Unknown/unspecified  Europe  "
      ]
     },
     "execution_count": 121,
     "metadata": {},
     "output_type": "execute_result"
    }
   ],
   "source": [
    "df = df.drop(\n",
    "    columns=[\n",
    "        \"Project name\",\n",
    "        \"Partners\",\n",
    "        \"Part of CCUS hub\",\n",
    "        \"Ref 1\",\n",
    "        \"Ref 2\",\n",
    "        \"Ref 3\",\n",
    "        \"Ref 4\",\n",
    "        \"Ref 5\",\n",
    "        \"Ref 6\",\n",
    "        \"Ref 7\",\n",
    "        \"Link 1\",\n",
    "        \"Link 2\",\n",
    "        \"Link 3\",\n",
    "        \"Link 4\",\n",
    "        \"Link 5\",\n",
    "        \"Link 6\",\n",
    "        \"Link 7\",\n",
    "    ]\n",
    ")\n",
    "\n",
    "df.head(1)"
   ]
  },
  {
   "cell_type": "markdown",
   "metadata": {},
   "source": [
    "`Announced capacity (Mt CO2/yr)` it the only column which is modified. This is necessary because there are 106 entries which have ranges instead of numbers. This makes it so the dtype of the column is wrong, which interrupts further analysis.\n",
    "\n",
    "The code detects if the entry is a range, splits it, converts it into a number, gets the mean between the two extremes of the range, and returns it. This, of course, assumes the mean is representative of the capacity of the project.\n"
   ]
  },
  {
   "cell_type": "code",
   "execution_count": 122,
   "metadata": {},
   "outputs": [
    {
     "data": {
      "text/plain": [
       "279    0.340\n",
       "403    0.175\n",
       "688    1.800\n",
       "191    0.004\n",
       "29     0.100\n",
       "Name: Announced capacity (Mt CO2/yr), dtype: float64"
      ]
     },
     "execution_count": 122,
     "metadata": {},
     "output_type": "execute_result"
    }
   ],
   "source": [
    "def range_cleanup(value: str) -> float:\n",
    "    if \"-\" not in value:\n",
    "        return float(value)\n",
    "\n",
    "    arr = value.split(\"-\")\n",
    "    a = float(arr[0].strip())\n",
    "    b = float(arr[1].strip())\n",
    "    return (a + b) / 2\n",
    "\n",
    "\n",
    "df = df.dropna(subset=[\"Announced capacity (Mt CO2/yr)\"])\n",
    "df[\"Announced capacity (Mt CO2/yr)\"] = df[\"Announced capacity (Mt CO2/yr)\"].apply(\n",
    "    range_cleanup\n",
    ")\n",
    "df[\"Announced capacity (Mt CO2/yr)\"].sample(5)"
   ]
  },
  {
   "cell_type": "markdown",
   "metadata": {},
   "source": [
    "This also makes it possible for us to add a new column that is the difference between the announced capacity and the estimated capacity.\n"
   ]
  },
  {
   "cell_type": "code",
   "execution_count": 123,
   "metadata": {},
   "outputs": [
    {
     "data": {
      "text/plain": [
       "319   -10.000\n",
       "593    -5.000\n",
       "696    -4.065\n",
       "618    -3.800\n",
       "338    -3.500\n",
       "        ...  \n",
       "256     2.500\n",
       "253     2.500\n",
       "610     5.000\n",
       "57      5.000\n",
       "333     5.000\n",
       "Name: Capacity error, Length: 614, dtype: float64"
      ]
     },
     "execution_count": 123,
     "metadata": {},
     "output_type": "execute_result"
    }
   ],
   "source": [
    "df[\"Capacity error\"] = (\n",
    "    df[\"Announced capacity (Mt CO2/yr)\"] - df[\"Estimated capacity by IEA (Mt CO2/yr)\"]\n",
    ")\n",
    "\n",
    "df[\"Capacity error\"].sort_values()"
   ]
  },
  {
   "cell_type": "markdown",
   "metadata": {},
   "source": [
    "Issues that were not fixed:\n",
    "\n",
    "-   `Country`\n",
    "    -   `Australia-Japan`\n",
    "-   `Project Type`\n",
    "    -   `Full Chain`\n",
    "-   `Region`\n",
    "    -   `Australia`\n"
   ]
  },
  {
   "cell_type": "markdown",
   "metadata": {},
   "source": [
    "### Convert appropriate columns to category dtype\n"
   ]
  },
  {
   "cell_type": "markdown",
   "metadata": {},
   "source": [
    "These columns were selected by going through each of the columns with the `value_counts()` method to see if they had categorical data. This correct labelling makes some analyses possible. Although not particularly relevant in this case, we also see a 4x reduction in memory usage.\n"
   ]
  },
  {
   "cell_type": "code",
   "execution_count": 124,
   "metadata": {},
   "outputs": [
    {
     "name": "stdout",
     "output_type": "stream",
     "text": [
      "<class 'pandas.core.frame.DataFrame'>\n",
      "Index: 614 entries, 0 to 840\n",
      "Data columns (total 15 columns):\n",
      " #   Column                                 Non-Null Count  Dtype  \n",
      "---  ------                                 --------------  -----  \n",
      " 0   ID                                     614 non-null    int64  \n",
      " 1   Country                                614 non-null    object \n",
      " 2   Project type                           614 non-null    object \n",
      " 3   Announcement                           597 non-null    float64\n",
      " 4   FID                                    224 non-null    float64\n",
      " 5   Operation                              459 non-null    float64\n",
      " 6   Suspension/decommissioning             6 non-null      float64\n",
      " 7   Project Status                         614 non-null    object \n",
      " 8   Project phase                          163 non-null    float64\n",
      " 9   Announced capacity (Mt CO2/yr)         614 non-null    float64\n",
      " 10  Estimated capacity by IEA (Mt CO2/yr)  614 non-null    float64\n",
      " 11  Sector                                 614 non-null    object \n",
      " 12  Fate of carbon                         614 non-null    object \n",
      " 13  Region                                 614 non-null    object \n",
      " 14  Capacity error                         614 non-null    float64\n",
      "dtypes: float64(8), int64(1), object(6)\n",
      "memory usage: 291.0 KB\n"
     ]
    }
   ],
   "source": [
    "df.info(memory_usage=\"deep\")"
   ]
  },
  {
   "cell_type": "code",
   "execution_count": 125,
   "metadata": {},
   "outputs": [],
   "source": [
    "category_cols = [\n",
    "    \"Country\",\n",
    "    \"Project type\",\n",
    "    \"Project Status\",\n",
    "    \"Project phase\",\n",
    "    \"Sector\",\n",
    "    \"Fate of carbon\",\n",
    "    \"Region\",\n",
    "]\n",
    "\n",
    "df[category_cols] = df[category_cols].astype(\"category\")"
   ]
  },
  {
   "cell_type": "code",
   "execution_count": 126,
   "metadata": {},
   "outputs": [
    {
     "name": "stdout",
     "output_type": "stream",
     "text": [
      "<class 'pandas.core.frame.DataFrame'>\n",
      "Index: 614 entries, 0 to 840\n",
      "Data columns (total 15 columns):\n",
      " #   Column                                 Non-Null Count  Dtype   \n",
      "---  ------                                 --------------  -----   \n",
      " 0   ID                                     614 non-null    int64   \n",
      " 1   Country                                614 non-null    category\n",
      " 2   Project type                           614 non-null    category\n",
      " 3   Announcement                           597 non-null    float64 \n",
      " 4   FID                                    224 non-null    float64 \n",
      " 5   Operation                              459 non-null    float64 \n",
      " 6   Suspension/decommissioning             6 non-null      float64 \n",
      " 7   Project Status                         614 non-null    category\n",
      " 8   Project phase                          163 non-null    category\n",
      " 9   Announced capacity (Mt CO2/yr)         614 non-null    float64 \n",
      " 10  Estimated capacity by IEA (Mt CO2/yr)  614 non-null    float64 \n",
      " 11  Sector                                 614 non-null    category\n",
      " 12  Fate of carbon                         614 non-null    category\n",
      " 13  Region                                 614 non-null    category\n",
      " 14  Capacity error                         614 non-null    float64 \n",
      "dtypes: category(7), float64(7), int64(1)\n",
      "memory usage: 57.6 KB\n"
     ]
    }
   ],
   "source": [
    "df.info(memory_usage=\"deep\")"
   ]
  },
  {
   "cell_type": "markdown",
   "metadata": {},
   "source": [
    "### Missing data\n"
   ]
  },
  {
   "cell_type": "code",
   "execution_count": 127,
   "metadata": {},
   "outputs": [
    {
     "data": {
      "text/plain": [
       "Suspension/decommissioning               608\n",
       "Project phase                            451\n",
       "FID                                      390\n",
       "Operation                                155\n",
       "Announcement                              17\n",
       "ID                                         0\n",
       "Project type                               0\n",
       "Country                                    0\n",
       "Project Status                             0\n",
       "Announced capacity (Mt CO2/yr)             0\n",
       "Estimated capacity by IEA (Mt CO2/yr)      0\n",
       "Sector                                     0\n",
       "Fate of carbon                             0\n",
       "Region                                     0\n",
       "Capacity error                             0\n",
       "dtype: int64"
      ]
     },
     "execution_count": 127,
     "metadata": {},
     "output_type": "execute_result"
    }
   ],
   "source": [
    "df.isna().sum().sort_values(ascending=False)"
   ]
  },
  {
   "cell_type": "markdown",
   "metadata": {},
   "source": [
    "Since these columns have a lot of missing values, they are dropped as well. We also drop the rows which have nans in `announcement`, which are only 20, or around 2% of the original sample.\n"
   ]
  },
  {
   "cell_type": "code",
   "execution_count": 128,
   "metadata": {},
   "outputs": [],
   "source": [
    "df = df.drop(\n",
    "    columns=[\n",
    "        \"Suspension/decommissioning\",\n",
    "        \"Project phase\",\n",
    "        \"FID\",\n",
    "        \"Operation\",\n",
    "    ]\n",
    ")"
   ]
  },
  {
   "cell_type": "code",
   "execution_count": 129,
   "metadata": {},
   "outputs": [],
   "source": [
    "df = df.dropna(subset=[\"Announcement\"])"
   ]
  },
  {
   "cell_type": "code",
   "execution_count": 130,
   "metadata": {},
   "outputs": [
    {
     "data": {
      "text/plain": [
       "ID                                       0\n",
       "Country                                  0\n",
       "Project type                             0\n",
       "Announcement                             0\n",
       "Project Status                           0\n",
       "Announced capacity (Mt CO2/yr)           0\n",
       "Estimated capacity by IEA (Mt CO2/yr)    0\n",
       "Sector                                   0\n",
       "Fate of carbon                           0\n",
       "Region                                   0\n",
       "Capacity error                           0\n",
       "dtype: int64"
      ]
     },
     "execution_count": 130,
     "metadata": {},
     "output_type": "execute_result"
    }
   ],
   "source": [
    "df.isna().sum().sort_values(ascending=False)"
   ]
  },
  {
   "cell_type": "markdown",
   "metadata": {},
   "source": [
    "## Descriptive Statistics\n"
   ]
  },
  {
   "cell_type": "code",
   "execution_count": 131,
   "metadata": {},
   "outputs": [
    {
     "name": "stdout",
     "output_type": "stream",
     "text": [
      "<class 'pandas.core.frame.DataFrame'>\n",
      "Index: 597 entries, 0 to 840\n",
      "Data columns (total 11 columns):\n",
      " #   Column                                 Non-Null Count  Dtype   \n",
      "---  ------                                 --------------  -----   \n",
      " 0   ID                                     597 non-null    int64   \n",
      " 1   Country                                597 non-null    category\n",
      " 2   Project type                           597 non-null    category\n",
      " 3   Announcement                           597 non-null    float64 \n",
      " 4   Project Status                         597 non-null    category\n",
      " 5   Announced capacity (Mt CO2/yr)         597 non-null    float64 \n",
      " 6   Estimated capacity by IEA (Mt CO2/yr)  597 non-null    float64 \n",
      " 7   Sector                                 597 non-null    category\n",
      " 8   Fate of carbon                         597 non-null    category\n",
      " 9   Region                                 597 non-null    category\n",
      " 10  Capacity error                         597 non-null    float64 \n",
      "dtypes: category(6), float64(4), int64(1)\n",
      "memory usage: 35.8 KB\n"
     ]
    }
   ],
   "source": [
    "df.info()"
   ]
  },
  {
   "cell_type": "markdown",
   "metadata": {},
   "source": [
    "### Categorical variables\n"
   ]
  },
  {
   "cell_type": "markdown",
   "metadata": {},
   "source": [
    "-   Region\n",
    "-   Country\n",
    "-   Fate of carbon\n",
    "-   Sector\n",
    "-   Project type\n",
    "-   Project status\n"
   ]
  },
  {
   "cell_type": "markdown",
   "metadata": {},
   "source": [
    "-   sector x fate\n",
    "    -   TODO\n",
    "-   region x type\n",
    "    -   TODO\n",
    "-   region x status\n",
    "    -   TODO\n"
   ]
  },
  {
   "cell_type": "code",
   "execution_count": 167,
   "metadata": {},
   "outputs": [
    {
     "data": {
      "text/plain": [
       "<Axes: ylabel='Region'>"
      ]
     },
     "execution_count": 167,
     "metadata": {},
     "output_type": "execute_result"
    },
    {
     "data": {
      "image/png": "[encoded data removed]",
      "text/plain": [
       "<Figure size 640x480 with 1 Axes>"
      ]
     },
     "metadata": {},
     "output_type": "display_data"
    }
   ],
   "source": [
    "df[\"Region\"].value_counts().sort_values(ascending=True).plot.barh()"
   ]
  },
  {
   "cell_type": "code",
   "execution_count": 158,
   "metadata": {},
   "outputs": [
    {
     "data": {
      "text/plain": [
       "<Axes: ylabel='Country'>"
      ]
     },
     "execution_count": 158,
     "metadata": {},
     "output_type": "execute_result"
    },
    {
     "data": {
      "image/png": "[encoded data removed]",
      "text/plain": [
       "<Figure size 640x480 with 1 Axes>"
      ]
     },
     "metadata": {},
     "output_type": "display_data"
    }
   ],
   "source": [
    "df[\"Country\"].value_counts().sort_values(ascending=True).tail(20).plot.barh()"
   ]
  },
  {
   "cell_type": "code",
   "execution_count": 157,
   "metadata": {},
   "outputs": [
    {
     "data": {
      "text/plain": [
       "<Axes: ylabel='Project type'>"
      ]
     },
     "execution_count": 157,
     "metadata": {},
     "output_type": "execute_result"
    },
    {
     "data": {
      "image/png": "[encoded data removed]",
      "text/plain": [
       "<Figure size 640x480 with 1 Axes>"
      ]
     },
     "metadata": {},
     "output_type": "display_data"
    }
   ],
   "source": [
    "df[\"Project type\"].value_counts().sort_values().plot.barh()"
   ]
  },
  {
   "cell_type": "code",
   "execution_count": 161,
   "metadata": {},
   "outputs": [
    {
     "data": {
      "text/plain": [
       "<Axes: xlabel='Project Status'>"
      ]
     },
     "execution_count": 161,
     "metadata": {},
     "output_type": "execute_result"
    },
    {
     "data": {
      "image/png": "[encoded data removed]",
      "text/plain": [
       "<Figure size 640x480 with 1 Axes>"
      ]
     },
     "metadata": {},
     "output_type": "display_data"
    }
   ],
   "source": [
    "df[\"Project Status\"].value_counts().plot.bar()"
   ]
  },
  {
   "cell_type": "code",
   "execution_count": 163,
   "metadata": {},
   "outputs": [
    {
     "data": {
      "text/plain": [
       "<Axes: ylabel='Sector'>"
      ]
     },
     "execution_count": 163,
     "metadata": {},
     "output_type": "execute_result"
    },
    {
     "data": {
      "image/png": "[encoded data removed]",
      "text/plain": [
       "<Figure size 640x480 with 1 Axes>"
      ]
     },
     "metadata": {},
     "output_type": "display_data"
    }
   ],
   "source": [
    "df[\"Sector\"].value_counts().sort_values(ascending=True).plot.barh()"
   ]
  },
  {
   "cell_type": "code",
   "execution_count": 166,
   "metadata": {},
   "outputs": [
    {
     "data": {
      "text/plain": [
       "<Axes: xlabel='Fate of carbon'>"
      ]
     },
     "execution_count": 166,
     "metadata": {},
     "output_type": "execute_result"
    },
    {
     "data": {
      "image/png": "[encoded data removed]",
      "text/plain": [
       "<Figure size 640x480 with 1 Axes>"
      ]
     },
     "metadata": {},
     "output_type": "display_data"
    }
   ],
   "source": [
    "df[\"Fate of carbon\"].value_counts().plot.bar()"
   ]
  },
  {
   "cell_type": "markdown",
   "metadata": {},
   "source": [
    "With these simple visualizations, we can gather a few insights from the data:\n",
    "\n",
    "-   extrene majority are just plans\n",
    "-   extrene majority are in the US, although when separated by region Europe is equivalent to the US\n",
    "-   extrene majority intend for their carbon to go into dedicated storage\n",
    "-   most of them are about capture (and not transporting, storing, or using carbon)\n",
    "\n",
    "We have then the median picture of a CCUS project: a company in Europe or the US that has plans to capture for somebody else to store it.\n",
    "\n",
    "There should be space, then, for companies to invest in areas other than capture, and to use all the carbon that will be available for storage.\n",
    "\n",
    "This makes sense considering the US's plan to become an environmental powerhouse (), but it is noticeable that Chinese companies don't seem to want to compete on this front.\n"
   ]
  },
  {
   "cell_type": "markdown",
   "metadata": {},
   "source": [
    "### Numerical parameters\n"
   ]
  },
  {
   "cell_type": "markdown",
   "metadata": {},
   "source": [
    "-   Announcement\n",
    "-   Announced capacity (Mt CO2/yr)\n",
    "-   Estimated capacity by IEA (Mt CO2/yr)\n",
    "-   Capacity error\n"
   ]
  },
  {
   "cell_type": "code",
   "execution_count": 168,
   "metadata": {},
   "outputs": [],
   "source": [
    "# df[\"Announcement\"]\n",
    "# df[\"Announced capacity (Mt CO2/yr)\"]\n",
    "# df[\"Estimated capacity by IEA (Mt CO2/yr)\"]\n",
    "# df[\"Capacity error\"]"
   ]
  },
  {
   "cell_type": "code",
   "execution_count": 195,
   "metadata": {},
   "outputs": [
    {
     "data": {
      "text/plain": [
       "<Axes: >"
      ]
     },
     "execution_count": 195,
     "metadata": {},
     "output_type": "execute_result"
    },
    {
     "data": {
      "image/png": "[encoded data removed]",
      "text/plain": [
       "<Figure size 640x480 with 1 Axes>"
      ]
     },
     "metadata": {},
     "output_type": "display_data"
    }
   ],
   "source": [
    "df[\"Announcement\"].hist(bins=10)"
   ]
  },
  {
   "cell_type": "code",
   "execution_count": 194,
   "metadata": {},
   "outputs": [
    {
     "data": {
      "text/plain": [
       "<Axes: >"
      ]
     },
     "execution_count": 194,
     "metadata": {},
     "output_type": "execute_result"
    },
    {
     "data": {
      "image/png": "[encoded data removed]",
      "text/plain": [
       "<Figure size 640x480 with 1 Axes>"
      ]
     },
     "metadata": {},
     "output_type": "display_data"
    }
   ],
   "source": [
    "df[\"Announced capacity (Mt CO2/yr)\"].hist(bins=50)"
   ]
  },
  {
   "cell_type": "code",
   "execution_count": 183,
   "metadata": {},
   "outputs": [
    {
     "data": {
      "text/plain": [
       "<Axes: >"
      ]
     },
     "execution_count": 183,
     "metadata": {},
     "output_type": "execute_result"
    },
    {
     "data": {
      "image/png": "[encoded data removed]",
      "text/plain": [
       "<Figure size 640x480 with 1 Axes>"
      ]
     },
     "metadata": {},
     "output_type": "display_data"
    }
   ],
   "source": [
    "df[\"Estimated capacity by IEA (Mt CO2/yr)\"].hist(bins=50)"
   ]
  },
  {
   "cell_type": "code",
   "execution_count": 184,
   "metadata": {},
   "outputs": [
    {
     "data": {
      "text/plain": [
       "28       0.001\n",
       "784      0.001\n",
       "662      0.001\n",
       "692      0.002\n",
       "191      0.004\n",
       "        ...   \n",
       "794     30.000\n",
       "773     30.000\n",
       "319     40.000\n",
       "676    120.000\n",
       "635    250.000\n",
       "Name: Estimated capacity by IEA (Mt CO2/yr), Length: 597, dtype: float64"
      ]
     },
     "execution_count": 184,
     "metadata": {},
     "output_type": "execute_result"
    }
   ],
   "source": [
    "df[\"Estimated capacity by IEA (Mt CO2/yr)\"].sort_values()"
   ]
  },
  {
   "cell_type": "code",
   "execution_count": 187,
   "metadata": {},
   "outputs": [
    {
     "data": {
      "text/plain": [
       "<Axes: >"
      ]
     },
     "execution_count": 187,
     "metadata": {},
     "output_type": "execute_result"
    },
    {
     "data": {
      "image/png": "[encoded data removed]",
      "text/plain": [
       "<Figure size 640x480 with 1 Axes>"
      ]
     },
     "metadata": {},
     "output_type": "display_data"
    }
   ],
   "source": [
    "df[\"Capacity error\"].hist(bins=10)"
   ]
  },
  {
   "cell_type": "code",
   "execution_count": 189,
   "metadata": {},
   "outputs": [],
   "source": [
    "# TODO: make these viz more readablez"
   ]
  },
  {
   "cell_type": "markdown",
   "metadata": {},
   "source": [
    "### Outliers\n"
   ]
  },
  {
   "cell_type": "markdown",
   "metadata": {},
   "source": [
    "The data continues being homogenous: more than 500 out of 600 projects were announced after 2020, are small scale, and do not diverge from the estimate. Given the kind of data this is, it might be interesting to investigate what makes the outliers special.\n",
    "\n",
    "-   There is 01 project in africa\n",
    "-   There were a few projects before 2010\n",
    "-   there are two big ones\n",
    "    -   676 635\n",
    "\n",
    "One might also wonder if you are the second company in africa, making another of these 500 companies has any value.\n"
   ]
  },
  {
   "cell_type": "markdown",
   "metadata": {},
   "source": [
    "## Additional statistical parameters\n"
   ]
  },
  {
   "cell_type": "markdown",
   "metadata": {},
   "source": [
    "I see no reason to diverge from the traditional 5% threshold for discerment."
   ]
  },
  {
   "cell_type": "markdown",
   "metadata": {},
   "source": [
    "## Statistical tests\n"
   ]
  },
  {
   "cell_type": "code",
   "execution_count": 87,
   "metadata": {},
   "outputs": [],
   "source": [
    "# import statsmodels.stats.weightstats as st\n",
    "\n",
    "# # df[\"city_mpg\"]\n",
    "# # df[\"transmission\"]\n",
    "\n",
    "# a = st.DescrStatsW(df[df[\"transmission\"] == \"A\"][\"city_mpg\"])\n",
    "# m = st.DescrStatsW(df[df[\"transmission\"] == \"M\"][\"city_mpg\"])\n",
    "# cm = st.CompareMeans(a, m)\n",
    "# ht = cm.ttest_ind(alternative=\"two-sided\")\n",
    "# print(\"p value = \", ht[1])"
   ]
  },
  {
   "cell_type": "markdown",
   "metadata": {},
   "source": [
    "## Inference\n"
   ]
  },
  {
   "cell_type": "markdown",
   "metadata": {},
   "source": [
    "Reject the null hypothesis since p < 0.5.\n",
    "\n",
    "Automatic cars seem to be less efficient\n"
   ]
  }
 ],
 "metadata": {
  "kernelspec": {
   "display_name": ".venv",
   "language": "python",
   "name": "python3"
  },
  "language_info": {
   "codemirror_mode": {
    "name": "ipython",
    "version": 3
   },
   "file_extension": ".py",
   "mimetype": "text/x-python",
   "name": "python",
   "nbconvert_exporter": "python",
   "pygments_lexer": "ipython3",
   "version": "3.10.12"
  }
 },
 "nbformat": 4,
 "nbformat_minor": 2
}
